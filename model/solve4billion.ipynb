{
  "nbformat": 4,
  "nbformat_minor": 0,
  "metadata": {
    "kernelspec": {
      "language": "python",
      "display_name": "Python 3",
      "name": "python3"
    },
    "language_info": {
      "pygments_lexer": "ipython3",
      "nbconvert_exporter": "python",
      "version": "3.6.4",
      "file_extension": ".py",
      "codemirror_mode": {
        "name": "ipython",
        "version": 3
      },
      "name": "python",
      "mimetype": "text/x-python"
    },
    "colab": {
      "name": "solve4billion.ipynb",
      "provenance": []
    },
    "accelerator": "GPU"
  },
  "cells": [
    {
      "cell_type": "markdown",
      "metadata": {
        "id": "7_QS4iA6JUPD"
      },
      "source": [
        "# 1. Acknowledgment \n",
        "\n",
        "\n",
        "\n",
        "At the very beginning, I would like to acknowledge the dataset contributor for his efforts to get the data that can help us analyse the data. \n",
        "\n",
        "COVID-19 (SARS Cov-2) is a virus that targets the respiratory tract of vulnerable patients. According to WHO, this is the 14th worldwide pandemic and due to the nature of how global the world is today, this pandemic has been the most spread out in terms of infections with almost the entire world suffering. The pandemic has brought about huge economic worries for nations and even more so for the daily wage workers who are without any work now and need to depend upon goverment subsidies.\n",
        "\n",
        "Not just for the daily wage workers, this virus has caused immense strain in many other fields such as the educational field, aviation field, markets, travel industry and many more.\n",
        "\n",
        "\n",
        "With respect to the nature of virus, due to it's nature, it keeps cosntantly mutating hence, making the job of the virologists extremely challenging to come up with a virus. This ailment has also brough about a great deal of an opportunity for budding data sceince emthisiasts such as myself to understand how the virus effects some poeple more than the rest. Through this kernel, I would like to find a few insights such. Moreover, understanding the pre-conditions would also help us make a smarter decision whether we should go to the hospital or keep ourselves home quarantined and not overload the hospitals. Some patients need health care facility much more than others. Hence, we must be considerate while making such choices.\n",
        "\n",
        "\n",
        "## Reminder\n",
        "\n",
        "The data obtained is from the Mexican government and hence, the analysis is valid for Mexico or maybe North America. The pandemic stats and behaviours are extremely different for Asian countries when compared to North American or European countries owing to far lower case fatality rate for Asia.\n",
        "\n",
        "![COV.jpg](attachment:COV.jpg)"
      ]
    },
    {
      "cell_type": "code",
      "metadata": {
        "colab": {
          "base_uri": "https://localhost:8080/"
        },
        "id": "7JVITyHtJxFG",
        "outputId": "ad445dd5-aa25-4e5e-f69c-2c43564de32c"
      },
      "source": [
        "from google.colab import drive\n",
        "drive.mount('/content/drive')"
      ],
      "execution_count": 1,
      "outputs": [
        {
          "output_type": "stream",
          "text": [
            "Mounted at /content/drive\n"
          ],
          "name": "stdout"
        }
      ]
    },
    {
      "cell_type": "markdown",
      "metadata": {
        "id": "35mZJdLqJUPT"
      },
      "source": [
        "# 2. Importing relevant libraries and data\n",
        "\n",
        "Let us import all the necessary libraries and the datasets we require for our data visualisations."
      ]
    },
    {
      "cell_type": "code",
      "metadata": {
        "trusted": true,
        "id": "8V4N-8ZXJUPU"
      },
      "source": [
        "import numpy as np\n",
        "import pandas as pd\n",
        "import seaborn as sns\n",
        "import matplotlib.pyplot as plt"
      ],
      "execution_count": 2,
      "outputs": []
    },
    {
      "cell_type": "code",
      "metadata": {
        "trusted": true,
        "colab": {
          "base_uri": "https://localhost:8080/",
          "height": 309
        },
        "id": "JVPrMgQhJUPV",
        "outputId": "3a92c69f-8978-4ef1-efec-764386c18ba3"
      },
      "source": [
        "pd.set_option('display.max_columns',None)\n",
        "df=pd.read_csv('/content/drive/MyDrive/Covid Dataset/covid.csv')\n",
        "df.head()"
      ],
      "execution_count": null,
      "outputs": [
        {
          "output_type": "execute_result",
          "data": {
            "text/html": [
              "<div>\n",
              "<style scoped>\n",
              "    .dataframe tbody tr th:only-of-type {\n",
              "        vertical-align: middle;\n",
              "    }\n",
              "\n",
              "    .dataframe tbody tr th {\n",
              "        vertical-align: top;\n",
              "    }\n",
              "\n",
              "    .dataframe thead th {\n",
              "        text-align: right;\n",
              "    }\n",
              "</style>\n",
              "<table border=\"1\" class=\"dataframe\">\n",
              "  <thead>\n",
              "    <tr style=\"text-align: right;\">\n",
              "      <th></th>\n",
              "      <th>id</th>\n",
              "      <th>sex</th>\n",
              "      <th>patient_type</th>\n",
              "      <th>entry_date</th>\n",
              "      <th>date_symptoms</th>\n",
              "      <th>date_died</th>\n",
              "      <th>intubed</th>\n",
              "      <th>pneumonia</th>\n",
              "      <th>age</th>\n",
              "      <th>pregnancy</th>\n",
              "      <th>diabetes</th>\n",
              "      <th>copd</th>\n",
              "      <th>asthma</th>\n",
              "      <th>inmsupr</th>\n",
              "      <th>hypertension</th>\n",
              "      <th>other_disease</th>\n",
              "      <th>cardiovascular</th>\n",
              "      <th>obesity</th>\n",
              "      <th>renal_chronic</th>\n",
              "      <th>tobacco</th>\n",
              "      <th>contact_other_covid</th>\n",
              "      <th>covid_res</th>\n",
              "      <th>icu</th>\n",
              "    </tr>\n",
              "  </thead>\n",
              "  <tbody>\n",
              "    <tr>\n",
              "      <th>0</th>\n",
              "      <td>16169f</td>\n",
              "      <td>2</td>\n",
              "      <td>1</td>\n",
              "      <td>04-05-2020</td>\n",
              "      <td>02-05-2020</td>\n",
              "      <td>9999-99-99</td>\n",
              "      <td>97</td>\n",
              "      <td>2</td>\n",
              "      <td>27</td>\n",
              "      <td>97</td>\n",
              "      <td>2</td>\n",
              "      <td>2</td>\n",
              "      <td>2</td>\n",
              "      <td>2</td>\n",
              "      <td>2</td>\n",
              "      <td>2</td>\n",
              "      <td>2</td>\n",
              "      <td>2</td>\n",
              "      <td>2</td>\n",
              "      <td>2</td>\n",
              "      <td>2</td>\n",
              "      <td>1</td>\n",
              "      <td>97</td>\n",
              "    </tr>\n",
              "    <tr>\n",
              "      <th>1</th>\n",
              "      <td>1009bf</td>\n",
              "      <td>2</td>\n",
              "      <td>1</td>\n",
              "      <td>19-03-2020</td>\n",
              "      <td>17-03-2020</td>\n",
              "      <td>9999-99-99</td>\n",
              "      <td>97</td>\n",
              "      <td>2</td>\n",
              "      <td>24</td>\n",
              "      <td>97</td>\n",
              "      <td>2</td>\n",
              "      <td>2</td>\n",
              "      <td>2</td>\n",
              "      <td>2</td>\n",
              "      <td>2</td>\n",
              "      <td>2</td>\n",
              "      <td>2</td>\n",
              "      <td>2</td>\n",
              "      <td>2</td>\n",
              "      <td>2</td>\n",
              "      <td>99</td>\n",
              "      <td>1</td>\n",
              "      <td>97</td>\n",
              "    </tr>\n",
              "    <tr>\n",
              "      <th>2</th>\n",
              "      <td>167386</td>\n",
              "      <td>1</td>\n",
              "      <td>2</td>\n",
              "      <td>06-04-2020</td>\n",
              "      <td>01-04-2020</td>\n",
              "      <td>9999-99-99</td>\n",
              "      <td>2</td>\n",
              "      <td>2</td>\n",
              "      <td>54</td>\n",
              "      <td>2</td>\n",
              "      <td>2</td>\n",
              "      <td>2</td>\n",
              "      <td>2</td>\n",
              "      <td>2</td>\n",
              "      <td>2</td>\n",
              "      <td>2</td>\n",
              "      <td>2</td>\n",
              "      <td>1</td>\n",
              "      <td>2</td>\n",
              "      <td>2</td>\n",
              "      <td>99</td>\n",
              "      <td>1</td>\n",
              "      <td>2</td>\n",
              "    </tr>\n",
              "    <tr>\n",
              "      <th>3</th>\n",
              "      <td>0b5948</td>\n",
              "      <td>2</td>\n",
              "      <td>2</td>\n",
              "      <td>17-04-2020</td>\n",
              "      <td>10-04-2020</td>\n",
              "      <td>9999-99-99</td>\n",
              "      <td>2</td>\n",
              "      <td>1</td>\n",
              "      <td>30</td>\n",
              "      <td>97</td>\n",
              "      <td>2</td>\n",
              "      <td>2</td>\n",
              "      <td>2</td>\n",
              "      <td>2</td>\n",
              "      <td>2</td>\n",
              "      <td>2</td>\n",
              "      <td>2</td>\n",
              "      <td>2</td>\n",
              "      <td>2</td>\n",
              "      <td>2</td>\n",
              "      <td>99</td>\n",
              "      <td>1</td>\n",
              "      <td>2</td>\n",
              "    </tr>\n",
              "    <tr>\n",
              "      <th>4</th>\n",
              "      <td>0d01b5</td>\n",
              "      <td>1</td>\n",
              "      <td>2</td>\n",
              "      <td>13-04-2020</td>\n",
              "      <td>13-04-2020</td>\n",
              "      <td>22-04-2020</td>\n",
              "      <td>2</td>\n",
              "      <td>2</td>\n",
              "      <td>60</td>\n",
              "      <td>2</td>\n",
              "      <td>1</td>\n",
              "      <td>2</td>\n",
              "      <td>2</td>\n",
              "      <td>2</td>\n",
              "      <td>1</td>\n",
              "      <td>2</td>\n",
              "      <td>1</td>\n",
              "      <td>2</td>\n",
              "      <td>2</td>\n",
              "      <td>2</td>\n",
              "      <td>99</td>\n",
              "      <td>1</td>\n",
              "      <td>2</td>\n",
              "    </tr>\n",
              "  </tbody>\n",
              "</table>\n",
              "</div>"
            ],
            "text/plain": [
              "       id  sex  patient_type  entry_date date_symptoms   date_died  intubed  \\\n",
              "0  16169f    2             1  04-05-2020    02-05-2020  9999-99-99       97   \n",
              "1  1009bf    2             1  19-03-2020    17-03-2020  9999-99-99       97   \n",
              "2  167386    1             2  06-04-2020    01-04-2020  9999-99-99        2   \n",
              "3  0b5948    2             2  17-04-2020    10-04-2020  9999-99-99        2   \n",
              "4  0d01b5    1             2  13-04-2020    13-04-2020  22-04-2020        2   \n",
              "\n",
              "   pneumonia  age  pregnancy  diabetes  copd  asthma  inmsupr  hypertension  \\\n",
              "0          2   27         97         2     2       2        2             2   \n",
              "1          2   24         97         2     2       2        2             2   \n",
              "2          2   54          2         2     2       2        2             2   \n",
              "3          1   30         97         2     2       2        2             2   \n",
              "4          2   60          2         1     2       2        2             1   \n",
              "\n",
              "   other_disease  cardiovascular  obesity  renal_chronic  tobacco  \\\n",
              "0              2               2        2              2        2   \n",
              "1              2               2        2              2        2   \n",
              "2              2               2        1              2        2   \n",
              "3              2               2        2              2        2   \n",
              "4              2               1        2              2        2   \n",
              "\n",
              "   contact_other_covid  covid_res  icu  \n",
              "0                    2          1   97  \n",
              "1                   99          1   97  \n",
              "2                   99          1    2  \n",
              "3                   99          1    2  \n",
              "4                   99          1    2  "
            ]
          },
          "metadata": {
            "tags": []
          },
          "execution_count": 5
        }
      ]
    },
    {
      "cell_type": "markdown",
      "metadata": {
        "id": "8rdjCsV9JUPW"
      },
      "source": [
        "# 3. Data Cleaning and visualisation\n",
        "\n",
        "Since not all the data is always clean, we must take some effort to make the data more understandable and easier to plot. These steps would include things like idetifying null values, filling null values or dropping them, changing data type to required types.\n",
        "\n",
        "\n",
        "Let us list down all the descriptors of the data to clearly understand what the entries mean.\n",
        "\n",
        "## Data descriptors\n",
        "\n",
        "### (a) Sex\n",
        "\n",
        "1: Female\n",
        "\n",
        "2: Male\n",
        "\n",
        "### (b) Patient_type\n",
        "\n",
        "1: Outpatient\n",
        "\n",
        "2: Inpatient\n",
        "\n",
        "\n",
        "### (c) Columns with details like pregnancy, diabetes,copd,asthma , etc.\n",
        "\n",
        "1: Yes\n",
        "\n",
        "2: No\n",
        "\n",
        "Others (97,98,99) : Not available\n",
        "\n",
        "\n",
        "Okay great ! Now that we have the available descriptors of each column, we can move forward with the cleaning of wrangling of the data.\n",
        "\n",
        "\n",
        "Let us check the various data types we are dealing with first.\n",
        "\n"
      ]
    },
    {
      "cell_type": "code",
      "metadata": {
        "trusted": true,
        "colab": {
          "base_uri": "https://localhost:8080/"
        },
        "id": "c8vMpDJzJUPX",
        "outputId": "75163d31-68ee-47a3-b800-14fc5b34f24c"
      },
      "source": [
        "df.info()"
      ],
      "execution_count": null,
      "outputs": [
        {
          "output_type": "stream",
          "text": [
            "<class 'pandas.core.frame.DataFrame'>\n",
            "RangeIndex: 566602 entries, 0 to 566601\n",
            "Data columns (total 23 columns):\n",
            " #   Column               Non-Null Count   Dtype \n",
            "---  ------               --------------   ----- \n",
            " 0   id                   566602 non-null  object\n",
            " 1   sex                  566602 non-null  int64 \n",
            " 2   patient_type         566602 non-null  int64 \n",
            " 3   entry_date           566602 non-null  object\n",
            " 4   date_symptoms        566602 non-null  object\n",
            " 5   date_died            566602 non-null  object\n",
            " 6   intubed              566602 non-null  int64 \n",
            " 7   pneumonia            566602 non-null  int64 \n",
            " 8   age                  566602 non-null  int64 \n",
            " 9   pregnancy            566602 non-null  int64 \n",
            " 10  diabetes             566602 non-null  int64 \n",
            " 11  copd                 566602 non-null  int64 \n",
            " 12  asthma               566602 non-null  int64 \n",
            " 13  inmsupr              566602 non-null  int64 \n",
            " 14  hypertension         566602 non-null  int64 \n",
            " 15  other_disease        566602 non-null  int64 \n",
            " 16  cardiovascular       566602 non-null  int64 \n",
            " 17  obesity              566602 non-null  int64 \n",
            " 18  renal_chronic        566602 non-null  int64 \n",
            " 19  tobacco              566602 non-null  int64 \n",
            " 20  contact_other_covid  566602 non-null  int64 \n",
            " 21  covid_res            566602 non-null  int64 \n",
            " 22  icu                  566602 non-null  int64 \n",
            "dtypes: int64(19), object(4)\n",
            "memory usage: 99.4+ MB\n"
          ],
          "name": "stdout"
        }
      ]
    },
    {
      "cell_type": "markdown",
      "metadata": {
        "id": "PW0ddPDwJUPX"
      },
      "source": [
        "Judging from the above data, we can see that we have a data of 5,66,602 patients.\n",
        "\n",
        "Most of the data is fine and requires no further wrangling other than the dates. Let us convert the date columns to a datetime datatype.\n",
        "\n",
        "## Date columns\n",
        "\n",
        "The columns we are interested are:\n",
        "\n",
        "* entry_date\n",
        "* date_symptoms\n",
        "* date_died"
      ]
    },
    {
      "cell_type": "code",
      "metadata": {
        "trusted": true,
        "id": "eyr_SzffJUPY"
      },
      "source": [
        "date_fields=['entry_date','date_symptoms']\n",
        "for dates in date_fields:\n",
        "    df[dates]=pd.to_datetime(df[dates],infer_datetime_format=True)"
      ],
      "execution_count": null,
      "outputs": []
    },
    {
      "cell_type": "markdown",
      "metadata": {
        "id": "hx-wxbkSJUPZ"
      },
      "source": [
        "However, the data for date_died is not straightforward. Since only a fraction of the cases are actually fatal, hence, the date_died column will have many entries with 9s. We shall replace these values with some other value such as Not applicable."
      ]
    },
    {
      "cell_type": "code",
      "metadata": {
        "trusted": true,
        "id": "xVo84hprJUPa"
      },
      "source": [
        "df['date_died'].replace('9999-99-99','Not Applicable',inplace=True)"
      ],
      "execution_count": null,
      "outputs": []
    },
    {
      "cell_type": "markdown",
      "metadata": {
        "id": "-8Po53FGJUPa"
      },
      "source": [
        "## Other patient details\n",
        "\n",
        "Let us check the other columns now. As we already know, entries such as 97,98,99 are codes for empty values. Hence, we shall replace these value with null values.\n",
        "\n",
        "However we don't want to mess with the age values since ages could genuinely be 97,98 or 99.\n",
        "\n",
        "Moreover, we don't have any use of id column. Hence, we can safely drop the id."
      ]
    },
    {
      "cell_type": "code",
      "metadata": {
        "trusted": true,
        "colab": {
          "base_uri": "https://localhost:8080/"
        },
        "id": "18pgjPYfJUPb",
        "outputId": "09eb75d8-b6a7-417c-f66c-8630401cfa87"
      },
      "source": [
        "df.columns"
      ],
      "execution_count": null,
      "outputs": [
        {
          "output_type": "execute_result",
          "data": {
            "text/plain": [
              "Index(['id', 'sex', 'patient_type', 'entry_date', 'date_symptoms', 'date_died',\n",
              "       'intubed', 'pneumonia', 'age', 'pregnancy', 'diabetes', 'copd',\n",
              "       'asthma', 'inmsupr', 'hypertension', 'other_disease', 'cardiovascular',\n",
              "       'obesity', 'renal_chronic', 'tobacco', 'contact_other_covid',\n",
              "       'covid_res', 'icu'],\n",
              "      dtype='object')"
            ]
          },
          "metadata": {
            "tags": []
          },
          "execution_count": 7
        }
      ]
    },
    {
      "cell_type": "code",
      "metadata": {
        "trusted": true,
        "id": "OMfq5Ra5JUPc"
      },
      "source": [
        "df=df[['sex', 'patient_type', 'entry_date', 'date_symptoms', 'date_died', 'age',\n",
        "       'intubed', 'pneumonia', 'pregnancy', 'diabetes', 'copd',\n",
        "       'asthma', 'inmsupr', 'hypertension', 'other_disease', 'cardiovascular',\n",
        "       'obesity', 'renal_chronic', 'tobacco', 'contact_other_covid',\n",
        "       'covid_res', 'icu']]\n",
        "df.rename(columns={'covid_res':'Test result'},inplace=True)"
      ],
      "execution_count": null,
      "outputs": []
    },
    {
      "cell_type": "code",
      "metadata": {
        "trusted": true,
        "id": "ZP0V7ApPJUPc"
      },
      "source": [
        "df.iloc[:,6:]=df.iloc[:,6:].replace([97,98,99],np.nan)\n",
        "df.iloc[:,6:]=df.iloc[:,6:].replace(1,'Yes')\n",
        "df.iloc[:,6:]=df.iloc[:,6:].replace(2,'No')\n",
        "\n",
        "df.iloc[:,-2]=df.iloc[:,-2].replace('Yes','Positive')\n",
        "df.iloc[:,-2]=df.iloc[:,-2].replace('No','Negative')\n",
        "df.iloc[:,-2]=df.iloc[:,-2].replace(3,'Results awaited')"
      ],
      "execution_count": null,
      "outputs": []
    },
    {
      "cell_type": "code",
      "metadata": {
        "trusted": true,
        "colab": {
          "base_uri": "https://localhost:8080/",
          "height": 326
        },
        "id": "7MEbUIkwJUPc",
        "outputId": "7538e95c-b4c9-46d6-b904-bc9a1d543aae"
      },
      "source": [
        "df.head()"
      ],
      "execution_count": null,
      "outputs": [
        {
          "output_type": "execute_result",
          "data": {
            "text/html": [
              "<div>\n",
              "<style scoped>\n",
              "    .dataframe tbody tr th:only-of-type {\n",
              "        vertical-align: middle;\n",
              "    }\n",
              "\n",
              "    .dataframe tbody tr th {\n",
              "        vertical-align: top;\n",
              "    }\n",
              "\n",
              "    .dataframe thead th {\n",
              "        text-align: right;\n",
              "    }\n",
              "</style>\n",
              "<table border=\"1\" class=\"dataframe\">\n",
              "  <thead>\n",
              "    <tr style=\"text-align: right;\">\n",
              "      <th></th>\n",
              "      <th>sex</th>\n",
              "      <th>patient_type</th>\n",
              "      <th>entry_date</th>\n",
              "      <th>date_symptoms</th>\n",
              "      <th>date_died</th>\n",
              "      <th>age</th>\n",
              "      <th>intubed</th>\n",
              "      <th>pneumonia</th>\n",
              "      <th>pregnancy</th>\n",
              "      <th>diabetes</th>\n",
              "      <th>copd</th>\n",
              "      <th>asthma</th>\n",
              "      <th>inmsupr</th>\n",
              "      <th>hypertension</th>\n",
              "      <th>other_disease</th>\n",
              "      <th>cardiovascular</th>\n",
              "      <th>obesity</th>\n",
              "      <th>renal_chronic</th>\n",
              "      <th>tobacco</th>\n",
              "      <th>contact_other_covid</th>\n",
              "      <th>Test result</th>\n",
              "      <th>icu</th>\n",
              "    </tr>\n",
              "  </thead>\n",
              "  <tbody>\n",
              "    <tr>\n",
              "      <th>0</th>\n",
              "      <td>2</td>\n",
              "      <td>1</td>\n",
              "      <td>2020-04-05</td>\n",
              "      <td>2020-02-05</td>\n",
              "      <td>Not Applicable</td>\n",
              "      <td>27</td>\n",
              "      <td>NaN</td>\n",
              "      <td>No</td>\n",
              "      <td>NaN</td>\n",
              "      <td>No</td>\n",
              "      <td>No</td>\n",
              "      <td>No</td>\n",
              "      <td>No</td>\n",
              "      <td>No</td>\n",
              "      <td>No</td>\n",
              "      <td>No</td>\n",
              "      <td>No</td>\n",
              "      <td>No</td>\n",
              "      <td>No</td>\n",
              "      <td>No</td>\n",
              "      <td>Positive</td>\n",
              "      <td>NaN</td>\n",
              "    </tr>\n",
              "    <tr>\n",
              "      <th>1</th>\n",
              "      <td>2</td>\n",
              "      <td>1</td>\n",
              "      <td>2020-03-19</td>\n",
              "      <td>2020-03-17</td>\n",
              "      <td>Not Applicable</td>\n",
              "      <td>24</td>\n",
              "      <td>NaN</td>\n",
              "      <td>No</td>\n",
              "      <td>NaN</td>\n",
              "      <td>No</td>\n",
              "      <td>No</td>\n",
              "      <td>No</td>\n",
              "      <td>No</td>\n",
              "      <td>No</td>\n",
              "      <td>No</td>\n",
              "      <td>No</td>\n",
              "      <td>No</td>\n",
              "      <td>No</td>\n",
              "      <td>No</td>\n",
              "      <td>NaN</td>\n",
              "      <td>Positive</td>\n",
              "      <td>NaN</td>\n",
              "    </tr>\n",
              "    <tr>\n",
              "      <th>2</th>\n",
              "      <td>1</td>\n",
              "      <td>2</td>\n",
              "      <td>2020-06-04</td>\n",
              "      <td>2020-01-04</td>\n",
              "      <td>Not Applicable</td>\n",
              "      <td>54</td>\n",
              "      <td>No</td>\n",
              "      <td>No</td>\n",
              "      <td>No</td>\n",
              "      <td>No</td>\n",
              "      <td>No</td>\n",
              "      <td>No</td>\n",
              "      <td>No</td>\n",
              "      <td>No</td>\n",
              "      <td>No</td>\n",
              "      <td>No</td>\n",
              "      <td>Yes</td>\n",
              "      <td>No</td>\n",
              "      <td>No</td>\n",
              "      <td>NaN</td>\n",
              "      <td>Positive</td>\n",
              "      <td>No</td>\n",
              "    </tr>\n",
              "    <tr>\n",
              "      <th>3</th>\n",
              "      <td>2</td>\n",
              "      <td>2</td>\n",
              "      <td>2020-04-17</td>\n",
              "      <td>2020-10-04</td>\n",
              "      <td>Not Applicable</td>\n",
              "      <td>30</td>\n",
              "      <td>No</td>\n",
              "      <td>Yes</td>\n",
              "      <td>NaN</td>\n",
              "      <td>No</td>\n",
              "      <td>No</td>\n",
              "      <td>No</td>\n",
              "      <td>No</td>\n",
              "      <td>No</td>\n",
              "      <td>No</td>\n",
              "      <td>No</td>\n",
              "      <td>No</td>\n",
              "      <td>No</td>\n",
              "      <td>No</td>\n",
              "      <td>NaN</td>\n",
              "      <td>Positive</td>\n",
              "      <td>No</td>\n",
              "    </tr>\n",
              "    <tr>\n",
              "      <th>4</th>\n",
              "      <td>1</td>\n",
              "      <td>2</td>\n",
              "      <td>2020-04-13</td>\n",
              "      <td>2020-04-13</td>\n",
              "      <td>22-04-2020</td>\n",
              "      <td>60</td>\n",
              "      <td>No</td>\n",
              "      <td>No</td>\n",
              "      <td>No</td>\n",
              "      <td>Yes</td>\n",
              "      <td>No</td>\n",
              "      <td>No</td>\n",
              "      <td>No</td>\n",
              "      <td>Yes</td>\n",
              "      <td>No</td>\n",
              "      <td>Yes</td>\n",
              "      <td>No</td>\n",
              "      <td>No</td>\n",
              "      <td>No</td>\n",
              "      <td>NaN</td>\n",
              "      <td>Positive</td>\n",
              "      <td>No</td>\n",
              "    </tr>\n",
              "  </tbody>\n",
              "</table>\n",
              "</div>"
            ],
            "text/plain": [
              "   sex  patient_type entry_date date_symptoms       date_died  age intubed  \\\n",
              "0    2             1 2020-04-05    2020-02-05  Not Applicable   27     NaN   \n",
              "1    2             1 2020-03-19    2020-03-17  Not Applicable   24     NaN   \n",
              "2    1             2 2020-06-04    2020-01-04  Not Applicable   54      No   \n",
              "3    2             2 2020-04-17    2020-10-04  Not Applicable   30      No   \n",
              "4    1             2 2020-04-13    2020-04-13      22-04-2020   60      No   \n",
              "\n",
              "  pneumonia pregnancy diabetes copd asthma inmsupr hypertension other_disease  \\\n",
              "0        No       NaN       No   No     No      No           No            No   \n",
              "1        No       NaN       No   No     No      No           No            No   \n",
              "2        No        No       No   No     No      No           No            No   \n",
              "3       Yes       NaN       No   No     No      No           No            No   \n",
              "4        No        No      Yes   No     No      No          Yes            No   \n",
              "\n",
              "  cardiovascular obesity renal_chronic tobacco contact_other_covid  \\\n",
              "0             No      No            No      No                  No   \n",
              "1             No      No            No      No                 NaN   \n",
              "2             No     Yes            No      No                 NaN   \n",
              "3             No      No            No      No                 NaN   \n",
              "4            Yes      No            No      No                 NaN   \n",
              "\n",
              "  Test result  icu  \n",
              "0    Positive  NaN  \n",
              "1    Positive  NaN  \n",
              "2    Positive   No  \n",
              "3    Positive   No  \n",
              "4    Positive   No  "
            ]
          },
          "metadata": {
            "tags": []
          },
          "execution_count": 10
        }
      ]
    },
    {
      "cell_type": "markdown",
      "metadata": {
        "id": "9xAEweVqJUPd"
      },
      "source": [
        "As we can see, the data has now been properly cleaned. All values with 97,98,99 have been replaced by null values. Let us check the number of null values for each feature."
      ]
    },
    {
      "cell_type": "code",
      "metadata": {
        "trusted": true,
        "colab": {
          "base_uri": "https://localhost:8080/",
          "height": 615
        },
        "id": "VkawkPBbJUPd",
        "outputId": "a5cbef5e-0d1f-47aa-c2bb-13144a9c2af1"
      },
      "source": [
        "plt.figure(figsize=(10,8))\n",
        "sns.heatmap(df.isnull(),cmap='viridis')\n",
        "plt.title('Null value heatmap',size=25)"
      ],
      "execution_count": null,
      "outputs": [
        {
          "output_type": "execute_result",
          "data": {
            "text/plain": [
              "Text(0.5, 1.0, 'Null value heatmap')"
            ]
          },
          "metadata": {
            "tags": []
          },
          "execution_count": 11
        },
        {
          "output_type": "display_data",
          "data": {
            "image/png": "[encoded data removed]",
            "text/plain": [
              "<Figure size 720x576 with 2 Axes>"
            ]
          },
          "metadata": {
            "tags": [],
            "needs_background": "light"
          }
        }
      ]
    },
    {
      "cell_type": "markdown",
      "metadata": {
        "id": "Yht1h7EBJUPd"
      },
      "source": [
        "From the above heatmap, high number of null values can bee seen in intubed, pregnancy , ICU and contact_other_covid features. Rest of the values don't seem to have much.\n",
        "\n",
        "Let us figure out what to with the null values one by one.\n",
        "\n",
        "### Intubed"
      ]
    },
    {
      "cell_type": "code",
      "metadata": {
        "trusted": true,
        "colab": {
          "base_uri": "https://localhost:8080/"
        },
        "id": "gJa47EmyJUPe",
        "outputId": "de52f233-aec8-4ee1-f31b-1212ee88f0c7"
      },
      "source": [
        "df['intubed'].isna().value_counts()"
      ],
      "execution_count": null,
      "outputs": [
        {
          "output_type": "execute_result",
          "data": {
            "text/plain": [
              "True     444813\n",
              "False    121789\n",
              "Name: intubed, dtype: int64"
            ]
          },
          "metadata": {
            "tags": []
          },
          "execution_count": 12
        }
      ]
    },
    {
      "cell_type": "markdown",
      "metadata": {
        "id": "YklotCEFJUPe"
      },
      "source": [
        "Oh wow ! A large majority of the entries are null here. Let us analyse the non null values."
      ]
    },
    {
      "cell_type": "code",
      "metadata": {
        "trusted": true,
        "colab": {
          "base_uri": "https://localhost:8080/",
          "height": 581
        },
        "id": "tBWi8smgJUPf",
        "outputId": "b1f00a84-18a6-4a02-dff2-d34cb5748100"
      },
      "source": [
        "plt.figure(figsize=(10,8))\n",
        "ax=sns.catplot('intubed',data=df,kind='count',palette='autumn_d',hue='Test result')\n",
        "plt.xticks(size=15,)\n",
        "plt.xlabel('Intubation \\n \\n Yes:{}  No:{}'.format(df['intubed'].value_counts()[1] , df['intubed'].value_counts()[0]),size=15)\n",
        "plt.ylabel('Count',size=15)\n",
        "plt.title('Reported intubations \\n \\n  Ratio={0:.0f}'.format(df['intubed'].value_counts()[0]/df['intubed'].value_counts()[1])\n",
        "          ,size=20)\n",
        "\n"
      ],
      "execution_count": null,
      "outputs": [
        {
          "output_type": "stream",
          "text": [
            "/usr/local/lib/python3.6/dist-packages/seaborn/_decorators.py:43: FutureWarning: Pass the following variable as a keyword arg: x. From version 0.12, the only valid positional argument will be `data`, and passing other arguments without an explicit keyword will result in an error or misinterpretation.\n",
            "  FutureWarning\n"
          ],
          "name": "stderr"
        },
        {
          "output_type": "execute_result",
          "data": {
            "text/plain": [
              "Text(0.5, 1.0, 'Reported intubations \\n \\n  Ratio=11')"
            ]
          },
          "metadata": {
            "tags": []
          },
          "execution_count": 13
        },
        {
          "output_type": "display_data",
          "data": {
            "text/plain": [
              "<Figure size 720x576 with 0 Axes>"
            ]
          },
          "metadata": {
            "tags": []
          }
        },
        {
          "output_type": "display_data",
          "data": {
            "image/png": "[encoded data removed]",
            "text/plain": [
              "<Figure size 474.875x360 with 1 Axes>"
            ]
          },
          "metadata": {
            "tags": [],
            "needs_background": "light"
          }
        }
      ]
    },
    {
      "cell_type": "markdown",
      "metadata": {
        "id": "BPD4P1f5JUPg"
      },
      "source": [
        "From the above plot, we can see that number of intubations were far lower than non intubations. The intubation ratio basically tells for **every one single reported intubation, there were 11 other patients who weren't intubated**.\n",
        "\n",
        "\n",
        "What is also interesting to note is that even without intubations, there are a lot of patients who are COVID +ve. This goes to show that only a few patients with infection have severe requirement of intubations which are basically external respiratory devices.\n",
        "\n",
        "Since there is no way of knowing about the actual intubations for the null values, we will have to ignore these values completely.\n",
        "\n",
        "\n",
        "### Intubation test positivity\n",
        "\n",
        "Through this metric we try to understand what are our chances of being COVID +ve if we are intubated.\n",
        "\n"
      ]
    },
    {
      "cell_type": "code",
      "metadata": {
        "trusted": true,
        "colab": {
          "base_uri": "https://localhost:8080/",
          "height": 498
        },
        "id": "YrlXTWUpJUPh",
        "outputId": "880036ed-c8d2-4e01-8f34-42dd3616e0e7"
      },
      "source": [
        "df_intubed=df[df['intubed']=='Yes']\n",
        "sns.catplot('Test result',data=df_intubed,kind='count')\n",
        "plt.title('Intubed patient numbers',size=20)\n",
        "plt.xlabel('Results \\n Test postivity rate: {0:.2f} %'.format(\n",
        "    100* df_intubed['Test result'].value_counts()[0]/df_intubed['Test result'].size),size=15)"
      ],
      "execution_count": null,
      "outputs": [
        {
          "output_type": "stream",
          "text": [
            "/usr/local/lib/python3.6/dist-packages/seaborn/_decorators.py:43: FutureWarning: Pass the following variable as a keyword arg: x. From version 0.12, the only valid positional argument will be `data`, and passing other arguments without an explicit keyword will result in an error or misinterpretation.\n",
            "  FutureWarning\n"
          ],
          "name": "stderr"
        },
        {
          "output_type": "execute_result",
          "data": {
            "text/plain": [
              "Text(0.5, 6.79999999999999, 'Results \\n Test postivity rate: 65.72 %')"
            ]
          },
          "metadata": {
            "tags": []
          },
          "execution_count": 14
        },
        {
          "output_type": "display_data",
          "data": {
            "image/png": "[encoded data removed]",
            "text/plain": [
              "<Figure size 360x360 with 1 Axes>"
            ]
          },
          "metadata": {
            "tags": [],
            "needs_background": "light"
          }
        }
      ]
    },
    {
      "cell_type": "markdown",
      "metadata": {
        "id": "HlEVYwywJUPi"
      },
      "source": [
        "From the above barplot, we can see that for the reported intubed patients, about 65.72 % of the patients are COVID +VE. This basically tells us that intubation is a strong indicator for indicator.\n",
        "\n",
        "\n",
        "### Intubation and fatality rate\n",
        "\n",
        "Let us try to understand how are the fatality numbers when a patient is intubed."
      ]
    },
    {
      "cell_type": "code",
      "metadata": {
        "trusted": true,
        "collapsed": true,
        "colab": {
          "base_uri": "https://localhost:8080/"
        },
        "id": "8ukvI9AFJUPj",
        "outputId": "80d3097d-5639-4e06-d829-310cb9bf8961"
      },
      "source": [
        "\n",
        "df_intubed.reset_index(drop=True,inplace=True)\n",
        "df_intubed['Fatal']=np.nan\n",
        "\n",
        "i=0\n",
        "for i in range(len(df_intubed)):\n",
        "    if df_intubed['date_died'][i]!='Not Applicable':\n",
        "        df_intubed['Fatal'][i]='Yes'\n",
        "    "
      ],
      "execution_count": null,
      "outputs": [
        {
          "output_type": "stream",
          "text": [
            "/usr/local/lib/python3.6/dist-packages/ipykernel_launcher.py:3: SettingWithCopyWarning: \n",
            "A value is trying to be set on a copy of a slice from a DataFrame.\n",
            "Try using .loc[row_indexer,col_indexer] = value instead\n",
            "\n",
            "See the caveats in the documentation: https://pandas.pydata.org/pandas-docs/stable/user_guide/indexing.html#returning-a-view-versus-a-copy\n",
            "  This is separate from the ipykernel package so we can avoid doing imports until\n",
            "/usr/local/lib/python3.6/dist-packages/ipykernel_launcher.py:8: SettingWithCopyWarning: \n",
            "A value is trying to be set on a copy of a slice from a DataFrame\n",
            "\n",
            "See the caveats in the documentation: https://pandas.pydata.org/pandas-docs/stable/user_guide/indexing.html#returning-a-view-versus-a-copy\n",
            "  \n",
            "/usr/local/lib/python3.6/dist-packages/pandas/core/indexing.py:670: SettingWithCopyWarning: \n",
            "A value is trying to be set on a copy of a slice from a DataFrame\n",
            "\n",
            "See the caveats in the documentation: https://pandas.pydata.org/pandas-docs/stable/user_guide/indexing.html#returning-a-view-versus-a-copy\n",
            "  iloc._setitem_with_indexer(indexer, value)\n",
            "/usr/local/lib/python3.6/dist-packages/pandas/core/series.py:1009: SettingWithCopyWarning: \n",
            "A value is trying to be set on a copy of a slice from a DataFrame\n",
            "\n",
            "See the caveats in the documentation: https://pandas.pydata.org/pandas-docs/stable/user_guide/indexing.html#returning-a-view-versus-a-copy\n",
            "  self.loc[key] = value\n",
            "/usr/local/lib/python3.6/dist-packages/IPython/core/interactiveshell.py:2882: SettingWithCopyWarning: \n",
            "A value is trying to be set on a copy of a slice from a DataFrame\n",
            "\n",
            "See the caveats in the documentation: https://pandas.pydata.org/pandas-docs/stable/user_guide/indexing.html#returning-a-view-versus-a-copy\n",
            "  exec(code_obj, self.user_global_ns, self.user_ns)\n"
          ],
          "name": "stderr"
        }
      ]
    },
    {
      "cell_type": "code",
      "metadata": {
        "trusted": true,
        "collapsed": true,
        "colab": {
          "base_uri": "https://localhost:8080/"
        },
        "id": "Nz-qc6M_JUPl",
        "outputId": "c47e0f4c-756b-498f-8765-45908685c6d5"
      },
      "source": [
        "df_intubed['Fatal'].fillna('No',inplace=True)"
      ],
      "execution_count": null,
      "outputs": [
        {
          "output_type": "stream",
          "text": [
            "/usr/local/lib/python3.6/dist-packages/pandas/core/series.py:4536: SettingWithCopyWarning: \n",
            "A value is trying to be set on a copy of a slice from a DataFrame\n",
            "\n",
            "See the caveats in the documentation: https://pandas.pydata.org/pandas-docs/stable/user_guide/indexing.html#returning-a-view-versus-a-copy\n",
            "  downcast=downcast,\n"
          ],
          "name": "stderr"
        }
      ]
    },
    {
      "cell_type": "code",
      "metadata": {
        "trusted": true,
        "id": "WUtx32VyJUPm"
      },
      "source": [
        "df_int_pos=df_intubed[df_intubed['Test result']=='Positive']"
      ],
      "execution_count": null,
      "outputs": []
    },
    {
      "cell_type": "code",
      "metadata": {
        "trusted": true,
        "colab": {
          "base_uri": "https://localhost:8080/",
          "height": 603
        },
        "id": "LYHxuv7WJUPm",
        "outputId": "88470ec9-3ef1-4ed7-e199-bfba58a58adc"
      },
      "source": [
        "\n",
        "sns.catplot('Test result',kind='count',hue='Fatal',data=df_intubed,palette='Accent',height=5,aspect=2)\n",
        "plt.title('Intubed patients with case fatality',size=25)\n",
        "\n",
        "plt.xlabel('\\n Results  \\n \\n Case Fatality Rate: {0:.2f} %  \\n \\n COVID +ve Fatality Rate: {1:.2f} %'.format(100* df_intubed['Fatal'].value_counts()[0]/df_intubed.shape[0],100 * df_int_pos['Fatal'].value_counts()[0]/df_int_pos.shape[0]),size=20)\n",
        "plt.xticks(size=15)"
      ],
      "execution_count": null,
      "outputs": [
        {
          "output_type": "stream",
          "text": [
            "/usr/local/lib/python3.6/dist-packages/seaborn/_decorators.py:43: FutureWarning: Pass the following variable as a keyword arg: x. From version 0.12, the only valid positional argument will be `data`, and passing other arguments without an explicit keyword will result in an error or misinterpretation.\n",
            "  FutureWarning\n"
          ],
          "name": "stderr"
        },
        {
          "output_type": "execute_result",
          "data": {
            "text/plain": [
              "(array([0, 1, 2]), <a list of 3 Text major ticklabel objects>)"
            ]
          },
          "metadata": {
            "tags": []
          },
          "execution_count": 18
        },
        {
          "output_type": "display_data",
          "data": {
            "image/png": "[encoded data removed]",
            "text/plain": [
              "<Figure size 772x360 with 1 Axes>"
            ]
          },
          "metadata": {
            "tags": [],
            "needs_background": "light"
          }
        }
      ]
    },
    {
      "cell_type": "markdown",
      "metadata": {
        "id": "_poZ8AK3JUPn"
      },
      "source": [
        "As we can see from the plot above, the case fatality rate is quite high for patients who are already on incubators.\n",
        "\n",
        "But what's staggering to see is that for patients who are on incubators and are COVID +ve, the case fatality is extremely high when in comparison to non positive cases. \n",
        "\n",
        "For COVID +ve patients who are also intubed through ventilators, the fatality rate is 67.64 % which is quite high.\n",
        "\n",
        "### Sex\n",
        "\n",
        "Now, we shall check if sex is also a determining factor in case fatalities. Many diseases are such that females could recover better than males or vice versa. Hence, we are gonna check how the females and males have fared in their fight against the virus."
      ]
    },
    {
      "cell_type": "code",
      "metadata": {
        "trusted": true,
        "id": "HYyBsYYGJUPo"
      },
      "source": [
        "df['sex'].replace(1,'Female',inplace=True)\n",
        "df['sex'].replace(2,'Male',inplace=True)\n"
      ],
      "execution_count": null,
      "outputs": []
    },
    {
      "cell_type": "code",
      "metadata": {
        "trusted": true,
        "colab": {
          "base_uri": "https://localhost:8080/",
          "height": 468
        },
        "id": "l3GrVw8wJUPo",
        "outputId": "fbfdf532-6265-4472-e924-921e710773d3"
      },
      "source": [
        "sns.catplot('sex',data=df,kind='count')\n",
        "plt.title('Gender distribution')"
      ],
      "execution_count": null,
      "outputs": [
        {
          "output_type": "stream",
          "text": [
            "/usr/local/lib/python3.6/dist-packages/seaborn/_decorators.py:43: FutureWarning: Pass the following variable as a keyword arg: x. From version 0.12, the only valid positional argument will be `data`, and passing other arguments without an explicit keyword will result in an error or misinterpretation.\n",
            "  FutureWarning\n"
          ],
          "name": "stderr"
        },
        {
          "output_type": "execute_result",
          "data": {
            "text/plain": [
              "Text(0.5, 1.0, 'Gender distribution')"
            ]
          },
          "metadata": {
            "tags": []
          },
          "execution_count": 20
        },
        {
          "output_type": "display_data",
          "data": {
            "image/png": "[encoded data removed]",
            "text/plain": [
              "<Figure size 360x360 with 1 Axes>"
            ]
          },
          "metadata": {
            "tags": [],
            "needs_background": "light"
          }
        }
      ]
    },
    {
      "cell_type": "markdown",
      "metadata": {
        "id": "46ZhPq8XJUPp"
      },
      "source": [
        "As we can see from the plot above, the data is quite balanced in terms of gender. This is exremely desirable when we are analysing data as it removes bias.\n",
        "\n",
        "Let us now check how many of these patients are positive and how many of each gender was fatal in nature."
      ]
    },
    {
      "cell_type": "code",
      "metadata": {
        "trusted": true,
        "collapsed": true,
        "colab": {
          "base_uri": "https://localhost:8080/"
        },
        "id": "WO8QMHX-JUPq",
        "outputId": "1dacc29a-a40a-49e1-f9b9-1bd6271e7bc8"
      },
      "source": [
        "df_pos=df[df['Test result']=='Positive']\n",
        "\n",
        "df_pos.reset_index(drop=True,inplace=True)\n",
        "df_pos['Fatal']=np.nan\n",
        "\n",
        "i=0\n",
        "for i in range(len(df_pos)):\n",
        "    if df_pos['date_died'][i]!='Not Applicable':\n",
        "        df_pos['Fatal'][i]='Yes'\n",
        "\n",
        "df_pos['Fatal']=df_pos['Fatal'].fillna('No')"
      ],
      "execution_count": null,
      "outputs": [
        {
          "output_type": "stream",
          "text": [
            "/usr/local/lib/python3.6/dist-packages/ipykernel_launcher.py:4: SettingWithCopyWarning: \n",
            "A value is trying to be set on a copy of a slice from a DataFrame.\n",
            "Try using .loc[row_indexer,col_indexer] = value instead\n",
            "\n",
            "See the caveats in the documentation: https://pandas.pydata.org/pandas-docs/stable/user_guide/indexing.html#returning-a-view-versus-a-copy\n",
            "  after removing the cwd from sys.path.\n",
            "/usr/local/lib/python3.6/dist-packages/ipykernel_launcher.py:9: SettingWithCopyWarning: \n",
            "A value is trying to be set on a copy of a slice from a DataFrame\n",
            "\n",
            "See the caveats in the documentation: https://pandas.pydata.org/pandas-docs/stable/user_guide/indexing.html#returning-a-view-versus-a-copy\n",
            "  if __name__ == '__main__':\n",
            "/usr/local/lib/python3.6/dist-packages/pandas/core/indexing.py:670: SettingWithCopyWarning: \n",
            "A value is trying to be set on a copy of a slice from a DataFrame\n",
            "\n",
            "See the caveats in the documentation: https://pandas.pydata.org/pandas-docs/stable/user_guide/indexing.html#returning-a-view-versus-a-copy\n",
            "  iloc._setitem_with_indexer(indexer, value)\n",
            "/usr/local/lib/python3.6/dist-packages/pandas/core/series.py:1009: SettingWithCopyWarning: \n",
            "A value is trying to be set on a copy of a slice from a DataFrame\n",
            "\n",
            "See the caveats in the documentation: https://pandas.pydata.org/pandas-docs/stable/user_guide/indexing.html#returning-a-view-versus-a-copy\n",
            "  self.loc[key] = value\n",
            "/usr/local/lib/python3.6/dist-packages/IPython/core/interactiveshell.py:2882: SettingWithCopyWarning: \n",
            "A value is trying to be set on a copy of a slice from a DataFrame\n",
            "\n",
            "See the caveats in the documentation: https://pandas.pydata.org/pandas-docs/stable/user_guide/indexing.html#returning-a-view-versus-a-copy\n",
            "  exec(code_obj, self.user_global_ns, self.user_ns)\n",
            "/usr/local/lib/python3.6/dist-packages/ipykernel_launcher.py:11: SettingWithCopyWarning: \n",
            "A value is trying to be set on a copy of a slice from a DataFrame.\n",
            "Try using .loc[row_indexer,col_indexer] = value instead\n",
            "\n",
            "See the caveats in the documentation: https://pandas.pydata.org/pandas-docs/stable/user_guide/indexing.html#returning-a-view-versus-a-copy\n",
            "  # This is added back by InteractiveShellApp.init_path()\n"
          ],
          "name": "stderr"
        }
      ]
    },
    {
      "cell_type": "code",
      "metadata": {
        "trusted": true,
        "collapsed": true,
        "colab": {
          "base_uri": "https://localhost:8080/"
        },
        "id": "2s4XuADvJUPq",
        "outputId": "62dafa95-8054-4ee4-8170-5e49fceca813"
      },
      "source": [
        "df_pos['Fatal']=df_pos['Fatal'].fillna('No')"
      ],
      "execution_count": null,
      "outputs": [
        {
          "output_type": "stream",
          "text": [
            "/usr/local/lib/python3.6/dist-packages/ipykernel_launcher.py:1: SettingWithCopyWarning: \n",
            "A value is trying to be set on a copy of a slice from a DataFrame.\n",
            "Try using .loc[row_indexer,col_indexer] = value instead\n",
            "\n",
            "See the caveats in the documentation: https://pandas.pydata.org/pandas-docs/stable/user_guide/indexing.html#returning-a-view-versus-a-copy\n",
            "  \"\"\"Entry point for launching an IPython kernel.\n"
          ],
          "name": "stderr"
        }
      ]
    },
    {
      "cell_type": "code",
      "metadata": {
        "trusted": true,
        "colab": {
          "base_uri": "https://localhost:8080/",
          "height": 626
        },
        "id": "JaTO2hsXJUPr",
        "outputId": "ba38c060-e4ff-45f3-907f-96f067dcca3b"
      },
      "source": [
        "\n",
        "df_m_pos=df_pos[df_pos['sex']=='Male']\n",
        "df_f_pos=df_pos[df_pos['sex']=='Female']\n",
        "\n",
        "\n",
        "sns.catplot('sex',data=df_pos,hue='Fatal',kind='count',palette='rocket',aspect=2,height=6)\n",
        "plt.xlabel('Sex \\n \\n Male fatality : {0:.2f} % \\n \\n Female fatality: {1:.2f} %'.format(100*df_m_pos['Fatal'].value_counts()[1]/df_m_pos.shape[0],100*df_f_pos['Fatal'].value_counts()[1]/df_m_pos.shape[0]),size=15)\n",
        "plt.ylabel('Count',size=15)\n",
        "plt.title('Gender wise COVID +ve results',size=25)"
      ],
      "execution_count": null,
      "outputs": [
        {
          "output_type": "stream",
          "text": [
            "/usr/local/lib/python3.6/dist-packages/seaborn/_decorators.py:43: FutureWarning: Pass the following variable as a keyword arg: x. From version 0.12, the only valid positional argument will be `data`, and passing other arguments without an explicit keyword will result in an error or misinterpretation.\n",
            "  FutureWarning\n"
          ],
          "name": "stderr"
        },
        {
          "output_type": "execute_result",
          "data": {
            "text/plain": [
              "Text(0.5, 1.0, 'Gender wise COVID +ve results')"
            ]
          },
          "metadata": {
            "tags": []
          },
          "execution_count": 23
        },
        {
          "output_type": "display_data",
          "data": {
            "image/png": "[encoded data removed]",
            "text/plain": [
              "<Figure size 916x432 with 1 Axes>"
            ]
          },
          "metadata": {
            "tags": [],
            "needs_background": "light"
          }
        }
      ]
    },
    {
      "cell_type": "markdown",
      "metadata": {
        "id": "1QJC_J5jJUPr"
      },
      "source": [
        "From the above stats, we can observe that the male fatality rate is almost double of the female fatality rate. It seems that women are recovering better from the disease as compared to men."
      ]
    },
    {
      "cell_type": "markdown",
      "metadata": {
        "id": "-BA5ev_4JUPs"
      },
      "source": [
        "### Age\n",
        "\n",
        "Let us see how the ages are distributed and then check the number of positive cases for each age group. For the purpose of better understanding, we shall convert the continuous values of ages into various age bands as shown.\n",
        "\n",
        "\n",
        "* Less than 2 years\n",
        "* 2-10 years\n",
        "* 10-20 years\n",
        "* 20-30 years\n",
        "* 30-40 years\n",
        "* 40-50 years\n",
        "* 50-60 years\n",
        "* 60-80 years\n",
        "* Above 80 years"
      ]
    },
    {
      "cell_type": "code",
      "metadata": {
        "trusted": true,
        "id": "xCdRrWxHJUPs"
      },
      "source": [
        "def age_band(age):\n",
        "    \n",
        "   \n",
        "    if age<2:\n",
        "        return 'Less than 2'\n",
        "    elif (age>1) and (age<11):\n",
        "        return '2-10'\n",
        "    elif (age>10 and age<21):\n",
        "        return '10-20'\n",
        "    elif (age>20 and age<31):\n",
        "        return '20-30'\n",
        "    elif (age>30 and age<41):\n",
        "        return '30-40'\n",
        "    elif (age>40 and age<51):\n",
        "        return '40-50'\n",
        "    elif (age>50 and age<61):\n",
        "        return '50-60'\n",
        "    elif (age>60 and age<81):\n",
        "        return '60-80'\n",
        "    else:\n",
        "        return 'Above 80'"
      ],
      "execution_count": null,
      "outputs": []
    },
    {
      "cell_type": "code",
      "metadata": {
        "trusted": true,
        "colab": {
          "base_uri": "https://localhost:8080/",
          "height": 428
        },
        "id": "U0YJbfAfJUPt",
        "outputId": "687e2296-dd04-4830-b169-2c2803efa7f2"
      },
      "source": [
        "sns.set()\n",
        "fig1=plt.figure(figsize=(15,5))\n",
        "ax1=fig1.add_subplot(121)\n",
        "a=sns.distplot(df['age'],ax=ax1,label='Population ages')\n",
        "ax1.legend()\n",
        "ax1.set_title('Complete population age distribution',size=15)\n",
        "ax2=fig1.add_subplot(122)\n",
        "\n",
        "df_m=df[df['sex']=='Male']\n",
        "df_f=df[df['sex']=='Female']\n",
        "\n",
        "b=sns.kdeplot(df_m['age'],shade=True,ax=ax2,label='Male age distribution',color='orange')\n",
        "c=sns.kdeplot(df_f['age'],ax=ax2,label='Female age distribution',color='green',shade=True)\n",
        "ax2.set_xlabel('Age')\n",
        "ax2.set_title('Gender wise age distribution',size=15)"
      ],
      "execution_count": null,
      "outputs": [
        {
          "output_type": "stream",
          "text": [
            "/usr/local/lib/python3.6/dist-packages/seaborn/distributions.py:2551: FutureWarning: `distplot` is a deprecated function and will be removed in a future version. Please adapt your code to use either `displot` (a figure-level function with similar flexibility) or `histplot` (an axes-level function for histograms).\n",
            "  warnings.warn(msg, FutureWarning)\n"
          ],
          "name": "stderr"
        },
        {
          "output_type": "execute_result",
          "data": {
            "text/plain": [
              "Text(0.5, 1.0, 'Gender wise age distribution')"
            ]
          },
          "metadata": {
            "tags": []
          },
          "execution_count": 25
        },
        {
          "output_type": "display_data",
          "data": {
            "image/png": "[encoded data removed]",
            "text/plain": [
              "<Figure size 1080x360 with 2 Axes>"
            ]
          },
          "metadata": {
            "tags": []
          }
        }
      ]
    },
    {
      "cell_type": "markdown",
      "metadata": {
        "id": "2dvNWwNDJUPt"
      },
      "source": [
        "From the above left graph, we can see that we have a bimodal graph with high distribution from 20-60 years. There is also a peak in the lower section of the graph meaning we have high number of infants in our distribution.\n",
        "\n",
        "On the right, we see that the distribution for both women and men is nearly identical. This is great because it will let us understand the body responses of the sexes with an identical age distribution.\n",
        "\n",
        "\n",
        "Let us now move ahead with the"
      ]
    },
    {
      "cell_type": "code",
      "metadata": {
        "trusted": true,
        "id": "NFDezNJtJUPu"
      },
      "source": [
        "df['Age band']=df['age'].apply(age_band)\n",
        "df['Count']=1"
      ],
      "execution_count": null,
      "outputs": []
    },
    {
      "cell_type": "code",
      "metadata": {
        "trusted": true,
        "id": "D4dynfGjJUPu"
      },
      "source": [
        "df_age_band=df.groupby('Age band')['Count'].count().reset_index().sort_values(by='Count',ascending=False)"
      ],
      "execution_count": null,
      "outputs": []
    },
    {
      "cell_type": "code",
      "metadata": {
        "trusted": true,
        "colab": {
          "base_uri": "https://localhost:8080/",
          "height": 756
        },
        "id": "hI73gja8JUPv",
        "outputId": "2498bd71-b6d9-4de4-af62-083f4b51e820"
      },
      "source": [
        "\n",
        "\n",
        "\n",
        "\n",
        "sns.catplot('Age band','Count', data=df_age_band,kind='bar',height=10,aspect=2)\n",
        "\n",
        "\n",
        "plt.title('Age band distribution',size=25)\n",
        "plt.xlabel('Age band',size=15)\n",
        "plt.ylabel('Count',size=15)\n",
        "plt.xticks(size=15)"
      ],
      "execution_count": null,
      "outputs": [
        {
          "output_type": "stream",
          "text": [
            "/usr/local/lib/python3.6/dist-packages/seaborn/_decorators.py:43: FutureWarning: Pass the following variables as keyword args: x, y. From version 0.12, the only valid positional argument will be `data`, and passing other arguments without an explicit keyword will result in an error or misinterpretation.\n",
            "  FutureWarning\n"
          ],
          "name": "stderr"
        },
        {
          "output_type": "execute_result",
          "data": {
            "text/plain": [
              "(array([0, 1, 2, 3, 4, 5, 6, 7, 8]),\n",
              " <a list of 9 Text major ticklabel objects>)"
            ]
          },
          "metadata": {
            "tags": []
          },
          "execution_count": 28
        },
        {
          "output_type": "display_data",
          "data": {
            "image/png": "[encoded data removed]",
            "text/plain": [
              "<Figure size 1440x720 with 1 Axes>"
            ]
          },
          "metadata": {
            "tags": []
          }
        }
      ]
    },
    {
      "cell_type": "markdown",
      "metadata": {
        "id": "4vGDRWpdJUPv"
      },
      "source": [
        "From the above plot, we see that 30-40 aged people are maximum followed by 40-50 and then, 20-30.\n",
        "\n",
        "Let us now check how the fatalities change with respect to each age band."
      ]
    },
    {
      "cell_type": "code",
      "metadata": {
        "trusted": true,
        "id": "NCOz0nwUJUPw"
      },
      "source": [
        "def fatality(fatal):\n",
        "    if fatal =='Not Applicable':\n",
        "        return 'No'\n",
        "    else:\n",
        "        return 'Yes'"
      ],
      "execution_count": null,
      "outputs": []
    },
    {
      "cell_type": "code",
      "metadata": {
        "trusted": true,
        "id": "Z5q_xfqbJUPw"
      },
      "source": [
        "df['Fatal']=df['date_died'].apply(fatality)"
      ],
      "execution_count": null,
      "outputs": []
    },
    {
      "cell_type": "code",
      "metadata": {
        "trusted": true,
        "collapsed": true,
        "colab": {
          "base_uri": "https://localhost:8080/",
          "height": 326
        },
        "id": "Ob_0qC6KJUPx",
        "outputId": "6287e0c3-9700-49bc-8499-b2e212e3e5ee"
      },
      "source": [
        "df.head()"
      ],
      "execution_count": null,
      "outputs": [
        {
          "output_type": "execute_result",
          "data": {
            "text/html": [
              "<div>\n",
              "<style scoped>\n",
              "    .dataframe tbody tr th:only-of-type {\n",
              "        vertical-align: middle;\n",
              "    }\n",
              "\n",
              "    .dataframe tbody tr th {\n",
              "        vertical-align: top;\n",
              "    }\n",
              "\n",
              "    .dataframe thead th {\n",
              "        text-align: right;\n",
              "    }\n",
              "</style>\n",
              "<table border=\"1\" class=\"dataframe\">\n",
              "  <thead>\n",
              "    <tr style=\"text-align: right;\">\n",
              "      <th></th>\n",
              "      <th>sex</th>\n",
              "      <th>patient_type</th>\n",
              "      <th>entry_date</th>\n",
              "      <th>date_symptoms</th>\n",
              "      <th>date_died</th>\n",
              "      <th>age</th>\n",
              "      <th>intubed</th>\n",
              "      <th>pneumonia</th>\n",
              "      <th>pregnancy</th>\n",
              "      <th>diabetes</th>\n",
              "      <th>copd</th>\n",
              "      <th>asthma</th>\n",
              "      <th>inmsupr</th>\n",
              "      <th>hypertension</th>\n",
              "      <th>other_disease</th>\n",
              "      <th>cardiovascular</th>\n",
              "      <th>obesity</th>\n",
              "      <th>renal_chronic</th>\n",
              "      <th>tobacco</th>\n",
              "      <th>contact_other_covid</th>\n",
              "      <th>Test result</th>\n",
              "      <th>icu</th>\n",
              "      <th>Age band</th>\n",
              "      <th>Count</th>\n",
              "      <th>Fatal</th>\n",
              "    </tr>\n",
              "  </thead>\n",
              "  <tbody>\n",
              "    <tr>\n",
              "      <th>0</th>\n",
              "      <td>Male</td>\n",
              "      <td>1</td>\n",
              "      <td>2020-04-05</td>\n",
              "      <td>2020-02-05</td>\n",
              "      <td>Not Applicable</td>\n",
              "      <td>27</td>\n",
              "      <td>NaN</td>\n",
              "      <td>No</td>\n",
              "      <td>NaN</td>\n",
              "      <td>No</td>\n",
              "      <td>No</td>\n",
              "      <td>No</td>\n",
              "      <td>No</td>\n",
              "      <td>No</td>\n",
              "      <td>No</td>\n",
              "      <td>No</td>\n",
              "      <td>No</td>\n",
              "      <td>No</td>\n",
              "      <td>No</td>\n",
              "      <td>No</td>\n",
              "      <td>Positive</td>\n",
              "      <td>NaN</td>\n",
              "      <td>20-30</td>\n",
              "      <td>1</td>\n",
              "      <td>No</td>\n",
              "    </tr>\n",
              "    <tr>\n",
              "      <th>1</th>\n",
              "      <td>Male</td>\n",
              "      <td>1</td>\n",
              "      <td>2020-03-19</td>\n",
              "      <td>2020-03-17</td>\n",
              "      <td>Not Applicable</td>\n",
              "      <td>24</td>\n",
              "      <td>NaN</td>\n",
              "      <td>No</td>\n",
              "      <td>NaN</td>\n",
              "      <td>No</td>\n",
              "      <td>No</td>\n",
              "      <td>No</td>\n",
              "      <td>No</td>\n",
              "      <td>No</td>\n",
              "      <td>No</td>\n",
              "      <td>No</td>\n",
              "      <td>No</td>\n",
              "      <td>No</td>\n",
              "      <td>No</td>\n",
              "      <td>NaN</td>\n",
              "      <td>Positive</td>\n",
              "      <td>NaN</td>\n",
              "      <td>20-30</td>\n",
              "      <td>1</td>\n",
              "      <td>No</td>\n",
              "    </tr>\n",
              "    <tr>\n",
              "      <th>2</th>\n",
              "      <td>Female</td>\n",
              "      <td>2</td>\n",
              "      <td>2020-06-04</td>\n",
              "      <td>2020-01-04</td>\n",
              "      <td>Not Applicable</td>\n",
              "      <td>54</td>\n",
              "      <td>No</td>\n",
              "      <td>No</td>\n",
              "      <td>No</td>\n",
              "      <td>No</td>\n",
              "      <td>No</td>\n",
              "      <td>No</td>\n",
              "      <td>No</td>\n",
              "      <td>No</td>\n",
              "      <td>No</td>\n",
              "      <td>No</td>\n",
              "      <td>Yes</td>\n",
              "      <td>No</td>\n",
              "      <td>No</td>\n",
              "      <td>NaN</td>\n",
              "      <td>Positive</td>\n",
              "      <td>No</td>\n",
              "      <td>50-60</td>\n",
              "      <td>1</td>\n",
              "      <td>No</td>\n",
              "    </tr>\n",
              "    <tr>\n",
              "      <th>3</th>\n",
              "      <td>Male</td>\n",
              "      <td>2</td>\n",
              "      <td>2020-04-17</td>\n",
              "      <td>2020-10-04</td>\n",
              "      <td>Not Applicable</td>\n",
              "      <td>30</td>\n",
              "      <td>No</td>\n",
              "      <td>Yes</td>\n",
              "      <td>NaN</td>\n",
              "      <td>No</td>\n",
              "      <td>No</td>\n",
              "      <td>No</td>\n",
              "      <td>No</td>\n",
              "      <td>No</td>\n",
              "      <td>No</td>\n",
              "      <td>No</td>\n",
              "      <td>No</td>\n",
              "      <td>No</td>\n",
              "      <td>No</td>\n",
              "      <td>NaN</td>\n",
              "      <td>Positive</td>\n",
              "      <td>No</td>\n",
              "      <td>20-30</td>\n",
              "      <td>1</td>\n",
              "      <td>No</td>\n",
              "    </tr>\n",
              "    <tr>\n",
              "      <th>4</th>\n",
              "      <td>Female</td>\n",
              "      <td>2</td>\n",
              "      <td>2020-04-13</td>\n",
              "      <td>2020-04-13</td>\n",
              "      <td>22-04-2020</td>\n",
              "      <td>60</td>\n",
              "      <td>No</td>\n",
              "      <td>No</td>\n",
              "      <td>No</td>\n",
              "      <td>Yes</td>\n",
              "      <td>No</td>\n",
              "      <td>No</td>\n",
              "      <td>No</td>\n",
              "      <td>Yes</td>\n",
              "      <td>No</td>\n",
              "      <td>Yes</td>\n",
              "      <td>No</td>\n",
              "      <td>No</td>\n",
              "      <td>No</td>\n",
              "      <td>NaN</td>\n",
              "      <td>Positive</td>\n",
              "      <td>No</td>\n",
              "      <td>50-60</td>\n",
              "      <td>1</td>\n",
              "      <td>Yes</td>\n",
              "    </tr>\n",
              "  </tbody>\n",
              "</table>\n",
              "</div>"
            ],
            "text/plain": [
              "      sex  patient_type entry_date date_symptoms       date_died  age intubed  \\\n",
              "0    Male             1 2020-04-05    2020-02-05  Not Applicable   27     NaN   \n",
              "1    Male             1 2020-03-19    2020-03-17  Not Applicable   24     NaN   \n",
              "2  Female             2 2020-06-04    2020-01-04  Not Applicable   54      No   \n",
              "3    Male             2 2020-04-17    2020-10-04  Not Applicable   30      No   \n",
              "4  Female             2 2020-04-13    2020-04-13      22-04-2020   60      No   \n",
              "\n",
              "  pneumonia pregnancy diabetes copd asthma inmsupr hypertension other_disease  \\\n",
              "0        No       NaN       No   No     No      No           No            No   \n",
              "1        No       NaN       No   No     No      No           No            No   \n",
              "2        No        No       No   No     No      No           No            No   \n",
              "3       Yes       NaN       No   No     No      No           No            No   \n",
              "4        No        No      Yes   No     No      No          Yes            No   \n",
              "\n",
              "  cardiovascular obesity renal_chronic tobacco contact_other_covid  \\\n",
              "0             No      No            No      No                  No   \n",
              "1             No      No            No      No                 NaN   \n",
              "2             No     Yes            No      No                 NaN   \n",
              "3             No      No            No      No                 NaN   \n",
              "4            Yes      No            No      No                 NaN   \n",
              "\n",
              "  Test result  icu Age band  Count Fatal  \n",
              "0    Positive  NaN    20-30      1    No  \n",
              "1    Positive  NaN    20-30      1    No  \n",
              "2    Positive   No    50-60      1    No  \n",
              "3    Positive   No    20-30      1    No  \n",
              "4    Positive   No    50-60      1   Yes  "
            ]
          },
          "metadata": {
            "tags": []
          },
          "execution_count": 31
        }
      ]
    },
    {
      "cell_type": "code",
      "metadata": {
        "trusted": true,
        "colab": {
          "base_uri": "https://localhost:8080/",
          "height": 693
        },
        "id": "A3Wp-75JJUPx",
        "outputId": "657b975f-0ed8-4374-f905-eed26ba0c3cd"
      },
      "source": [
        "df_pos=df[df['Test result']=='Positive']\n",
        "sns.catplot('Age band',kind='count',hue='Fatal',data=df_pos,height=8,aspect=2,palette='winter')\n",
        "\n",
        "plt.xticks(size=15)\n",
        "\n",
        "plt.title('COVID +ve case fatality with respect to age groups',size=20)"
      ],
      "execution_count": null,
      "outputs": [
        {
          "output_type": "stream",
          "text": [
            "/usr/local/lib/python3.6/dist-packages/seaborn/_decorators.py:43: FutureWarning: Pass the following variable as a keyword arg: x. From version 0.12, the only valid positional argument will be `data`, and passing other arguments without an explicit keyword will result in an error or misinterpretation.\n",
            "  FutureWarning\n"
          ],
          "name": "stderr"
        },
        {
          "output_type": "execute_result",
          "data": {
            "text/plain": [
              "Text(0.5, 1.0, 'COVID +ve case fatality with respect to age groups')"
            ]
          },
          "metadata": {
            "tags": []
          },
          "execution_count": 32
        },
        {
          "output_type": "display_data",
          "data": {
            "image/png": "[encoded data removed]",
            "text/plain": [
              "<Figure size 1209.47x576 with 1 Axes>"
            ]
          },
          "metadata": {
            "tags": []
          }
        }
      ]
    },
    {
      "cell_type": "markdown",
      "metadata": {
        "id": "KnZenoy1JUPx"
      },
      "source": [
        "From the above plot, it can be seen that the case fatality is quite high for ages of 60-80 and above 80. This is expected since with body, the immune system becomes weaker and hence, it becomes tough for the body to fight a completely new virus. This is not just true for COVID but for most diseases.\n",
        "\n",
        "\n",
        "### Case load\n",
        "\n",
        "\n",
        "In this particular section, we will check how the case loads vary across the dates. Moreover, we will also check the number of days since hospitalisation and symptoms and see if there are any relations with fatality."
      ]
    },
    {
      "cell_type": "code",
      "metadata": {
        "trusted": true,
        "collapsed": true,
        "colab": {
          "base_uri": "https://localhost:8080/",
          "height": 326
        },
        "id": "TARMUL6oJUPy",
        "outputId": "560d7595-fbf5-4caa-e4ee-00c06fe4f424"
      },
      "source": [
        "df['delta']=abs(df['entry_date']-df['date_symptoms'])\n",
        "df.head()"
      ],
      "execution_count": null,
      "outputs": [
        {
          "output_type": "execute_result",
          "data": {
            "text/html": [
              "<div>\n",
              "<style scoped>\n",
              "    .dataframe tbody tr th:only-of-type {\n",
              "        vertical-align: middle;\n",
              "    }\n",
              "\n",
              "    .dataframe tbody tr th {\n",
              "        vertical-align: top;\n",
              "    }\n",
              "\n",
              "    .dataframe thead th {\n",
              "        text-align: right;\n",
              "    }\n",
              "</style>\n",
              "<table border=\"1\" class=\"dataframe\">\n",
              "  <thead>\n",
              "    <tr style=\"text-align: right;\">\n",
              "      <th></th>\n",
              "      <th>sex</th>\n",
              "      <th>patient_type</th>\n",
              "      <th>entry_date</th>\n",
              "      <th>date_symptoms</th>\n",
              "      <th>date_died</th>\n",
              "      <th>age</th>\n",
              "      <th>intubed</th>\n",
              "      <th>pneumonia</th>\n",
              "      <th>pregnancy</th>\n",
              "      <th>diabetes</th>\n",
              "      <th>copd</th>\n",
              "      <th>asthma</th>\n",
              "      <th>inmsupr</th>\n",
              "      <th>hypertension</th>\n",
              "      <th>other_disease</th>\n",
              "      <th>cardiovascular</th>\n",
              "      <th>obesity</th>\n",
              "      <th>renal_chronic</th>\n",
              "      <th>tobacco</th>\n",
              "      <th>contact_other_covid</th>\n",
              "      <th>Test result</th>\n",
              "      <th>icu</th>\n",
              "      <th>Age band</th>\n",
              "      <th>Count</th>\n",
              "      <th>Fatal</th>\n",
              "      <th>delta</th>\n",
              "    </tr>\n",
              "  </thead>\n",
              "  <tbody>\n",
              "    <tr>\n",
              "      <th>0</th>\n",
              "      <td>Male</td>\n",
              "      <td>1</td>\n",
              "      <td>2020-04-05</td>\n",
              "      <td>2020-02-05</td>\n",
              "      <td>Not Applicable</td>\n",
              "      <td>27</td>\n",
              "      <td>NaN</td>\n",
              "      <td>No</td>\n",
              "      <td>NaN</td>\n",
              "      <td>No</td>\n",
              "      <td>No</td>\n",
              "      <td>No</td>\n",
              "      <td>No</td>\n",
              "      <td>No</td>\n",
              "      <td>No</td>\n",
              "      <td>No</td>\n",
              "      <td>No</td>\n",
              "      <td>No</td>\n",
              "      <td>No</td>\n",
              "      <td>No</td>\n",
              "      <td>Positive</td>\n",
              "      <td>NaN</td>\n",
              "      <td>20-30</td>\n",
              "      <td>1</td>\n",
              "      <td>No</td>\n",
              "      <td>60 days</td>\n",
              "    </tr>\n",
              "    <tr>\n",
              "      <th>1</th>\n",
              "      <td>Male</td>\n",
              "      <td>1</td>\n",
              "      <td>2020-03-19</td>\n",
              "      <td>2020-03-17</td>\n",
              "      <td>Not Applicable</td>\n",
              "      <td>24</td>\n",
              "      <td>NaN</td>\n",
              "      <td>No</td>\n",
              "      <td>NaN</td>\n",
              "      <td>No</td>\n",
              "      <td>No</td>\n",
              "      <td>No</td>\n",
              "      <td>No</td>\n",
              "      <td>No</td>\n",
              "      <td>No</td>\n",
              "      <td>No</td>\n",
              "      <td>No</td>\n",
              "      <td>No</td>\n",
              "      <td>No</td>\n",
              "      <td>NaN</td>\n",
              "      <td>Positive</td>\n",
              "      <td>NaN</td>\n",
              "      <td>20-30</td>\n",
              "      <td>1</td>\n",
              "      <td>No</td>\n",
              "      <td>2 days</td>\n",
              "    </tr>\n",
              "    <tr>\n",
              "      <th>2</th>\n",
              "      <td>Female</td>\n",
              "      <td>2</td>\n",
              "      <td>2020-06-04</td>\n",
              "      <td>2020-01-04</td>\n",
              "      <td>Not Applicable</td>\n",
              "      <td>54</td>\n",
              "      <td>No</td>\n",
              "      <td>No</td>\n",
              "      <td>No</td>\n",
              "      <td>No</td>\n",
              "      <td>No</td>\n",
              "      <td>No</td>\n",
              "      <td>No</td>\n",
              "      <td>No</td>\n",
              "      <td>No</td>\n",
              "      <td>No</td>\n",
              "      <td>Yes</td>\n",
              "      <td>No</td>\n",
              "      <td>No</td>\n",
              "      <td>NaN</td>\n",
              "      <td>Positive</td>\n",
              "      <td>No</td>\n",
              "      <td>50-60</td>\n",
              "      <td>1</td>\n",
              "      <td>No</td>\n",
              "      <td>152 days</td>\n",
              "    </tr>\n",
              "    <tr>\n",
              "      <th>3</th>\n",
              "      <td>Male</td>\n",
              "      <td>2</td>\n",
              "      <td>2020-04-17</td>\n",
              "      <td>2020-10-04</td>\n",
              "      <td>Not Applicable</td>\n",
              "      <td>30</td>\n",
              "      <td>No</td>\n",
              "      <td>Yes</td>\n",
              "      <td>NaN</td>\n",
              "      <td>No</td>\n",
              "      <td>No</td>\n",
              "      <td>No</td>\n",
              "      <td>No</td>\n",
              "      <td>No</td>\n",
              "      <td>No</td>\n",
              "      <td>No</td>\n",
              "      <td>No</td>\n",
              "      <td>No</td>\n",
              "      <td>No</td>\n",
              "      <td>NaN</td>\n",
              "      <td>Positive</td>\n",
              "      <td>No</td>\n",
              "      <td>20-30</td>\n",
              "      <td>1</td>\n",
              "      <td>No</td>\n",
              "      <td>170 days</td>\n",
              "    </tr>\n",
              "    <tr>\n",
              "      <th>4</th>\n",
              "      <td>Female</td>\n",
              "      <td>2</td>\n",
              "      <td>2020-04-13</td>\n",
              "      <td>2020-04-13</td>\n",
              "      <td>22-04-2020</td>\n",
              "      <td>60</td>\n",
              "      <td>No</td>\n",
              "      <td>No</td>\n",
              "      <td>No</td>\n",
              "      <td>Yes</td>\n",
              "      <td>No</td>\n",
              "      <td>No</td>\n",
              "      <td>No</td>\n",
              "      <td>Yes</td>\n",
              "      <td>No</td>\n",
              "      <td>Yes</td>\n",
              "      <td>No</td>\n",
              "      <td>No</td>\n",
              "      <td>No</td>\n",
              "      <td>NaN</td>\n",
              "      <td>Positive</td>\n",
              "      <td>No</td>\n",
              "      <td>50-60</td>\n",
              "      <td>1</td>\n",
              "      <td>Yes</td>\n",
              "      <td>0 days</td>\n",
              "    </tr>\n",
              "  </tbody>\n",
              "</table>\n",
              "</div>"
            ],
            "text/plain": [
              "      sex  patient_type entry_date date_symptoms       date_died  age intubed  \\\n",
              "0    Male             1 2020-04-05    2020-02-05  Not Applicable   27     NaN   \n",
              "1    Male             1 2020-03-19    2020-03-17  Not Applicable   24     NaN   \n",
              "2  Female             2 2020-06-04    2020-01-04  Not Applicable   54      No   \n",
              "3    Male             2 2020-04-17    2020-10-04  Not Applicable   30      No   \n",
              "4  Female             2 2020-04-13    2020-04-13      22-04-2020   60      No   \n",
              "\n",
              "  pneumonia pregnancy diabetes copd asthma inmsupr hypertension other_disease  \\\n",
              "0        No       NaN       No   No     No      No           No            No   \n",
              "1        No       NaN       No   No     No      No           No            No   \n",
              "2        No        No       No   No     No      No           No            No   \n",
              "3       Yes       NaN       No   No     No      No           No            No   \n",
              "4        No        No      Yes   No     No      No          Yes            No   \n",
              "\n",
              "  cardiovascular obesity renal_chronic tobacco contact_other_covid  \\\n",
              "0             No      No            No      No                  No   \n",
              "1             No      No            No      No                 NaN   \n",
              "2             No     Yes            No      No                 NaN   \n",
              "3             No      No            No      No                 NaN   \n",
              "4            Yes      No            No      No                 NaN   \n",
              "\n",
              "  Test result  icu Age band  Count Fatal    delta  \n",
              "0    Positive  NaN    20-30      1    No  60 days  \n",
              "1    Positive  NaN    20-30      1    No   2 days  \n",
              "2    Positive   No    50-60      1    No 152 days  \n",
              "3    Positive   No    20-30      1    No 170 days  \n",
              "4    Positive   No    50-60      1   Yes   0 days  "
            ]
          },
          "metadata": {
            "tags": []
          },
          "execution_count": 33
        }
      ]
    },
    {
      "cell_type": "markdown",
      "metadata": {
        "id": "LI7_GbVxJUPy"
      },
      "source": [
        "The delta section in the above dataframe basically shows the number of days since first symptoms and hospitalisation.\n",
        "\n",
        "First, let us check the case loads of COVID +ve on each of the dates."
      ]
    },
    {
      "cell_type": "code",
      "metadata": {
        "trusted": true,
        "colab": {
          "base_uri": "https://localhost:8080/",
          "height": 204
        },
        "id": "37bJdk1zJUPy",
        "outputId": "e3453ce7-46f7-49a1-aada-12e69fba862d"
      },
      "source": [
        "df_pos=df[df['Test result']=='Positive']\n",
        "df_case_load=df.groupby('entry_date')['Count'].count().reset_index()\n",
        "df_case_load.sort_values(by='entry_date',inplace=True)\n",
        "df_case_load.head()"
      ],
      "execution_count": null,
      "outputs": [
        {
          "output_type": "execute_result",
          "data": {
            "text/html": [
              "<div>\n",
              "<style scoped>\n",
              "    .dataframe tbody tr th:only-of-type {\n",
              "        vertical-align: middle;\n",
              "    }\n",
              "\n",
              "    .dataframe tbody tr th {\n",
              "        vertical-align: top;\n",
              "    }\n",
              "\n",
              "    .dataframe thead th {\n",
              "        text-align: right;\n",
              "    }\n",
              "</style>\n",
              "<table border=\"1\" class=\"dataframe\">\n",
              "  <thead>\n",
              "    <tr style=\"text-align: right;\">\n",
              "      <th></th>\n",
              "      <th>entry_date</th>\n",
              "      <th>Count</th>\n",
              "    </tr>\n",
              "  </thead>\n",
              "  <tbody>\n",
              "    <tr>\n",
              "      <th>0</th>\n",
              "      <td>2020-01-01</td>\n",
              "      <td>5</td>\n",
              "    </tr>\n",
              "    <tr>\n",
              "      <th>1</th>\n",
              "      <td>2020-01-02</td>\n",
              "      <td>8</td>\n",
              "    </tr>\n",
              "    <tr>\n",
              "      <th>2</th>\n",
              "      <td>2020-01-03</td>\n",
              "      <td>27</td>\n",
              "    </tr>\n",
              "    <tr>\n",
              "      <th>3</th>\n",
              "      <td>2020-01-04</td>\n",
              "      <td>1590</td>\n",
              "    </tr>\n",
              "    <tr>\n",
              "      <th>4</th>\n",
              "      <td>2020-01-05</td>\n",
              "      <td>3053</td>\n",
              "    </tr>\n",
              "  </tbody>\n",
              "</table>\n",
              "</div>"
            ],
            "text/plain": [
              "  entry_date  Count\n",
              "0 2020-01-01      5\n",
              "1 2020-01-02      8\n",
              "2 2020-01-03     27\n",
              "3 2020-01-04   1590\n",
              "4 2020-01-05   3053"
            ]
          },
          "metadata": {
            "tags": []
          },
          "execution_count": 34
        }
      ]
    },
    {
      "cell_type": "markdown",
      "metadata": {
        "id": "kNktuEM8JUPz"
      },
      "source": [
        "Now that we have managed to separate the COVID +ve cases datewise, let us see how the time series analysis looks like. For the purpose of our analysis, we shall consider a rolling average of 10 days."
      ]
    },
    {
      "cell_type": "code",
      "metadata": {
        "trusted": true,
        "colab": {
          "base_uri": "https://localhost:8080/",
          "height": 587
        },
        "id": "7xaiqlbaJUPz",
        "outputId": "95ab2f37-bfcb-466c-e290-dd4cb44e8395"
      },
      "source": [
        "fig1=plt.figure(figsize=(10,8))\n",
        "ax1=fig1.add_subplot(111)\n",
        "\n",
        "df_case_load['Moving average_25']=df_case_load['Count'].rolling(25).mean()\n",
        "df_case_load['Moving average_35']=df_case_load['Count'].rolling(35).mean()\n",
        "df_case_load['Moving average_50']=df_case_load['Count'].rolling(50).mean()\n",
        "\n",
        "ax1.plot(df_case_load['entry_date'],df_case_load['Moving average_25'],label='25 day moving average',color='indianred')\n",
        "ax1.plot(df_case_load['entry_date'],df_case_load['Moving average_35'],label='35 day moving average',color='seagreen')\n",
        "ax1.plot(df_case_load['entry_date'],df_case_load['Moving average_50'],label='50 day moving average',color='blue')\n",
        "\n",
        "plt.legend()\n",
        "plt.title('COVID-19 case loads',size=20)\n",
        "plt.xticks(rotation=45)"
      ],
      "execution_count": null,
      "outputs": [
        {
          "output_type": "execute_result",
          "data": {
            "text/plain": [
              "(array([737456., 737485., 737516., 737546., 737577., 737607., 737638.,\n",
              "        737669., 737699., 737730., 737760.]),\n",
              " <a list of 11 Text major ticklabel objects>)"
            ]
          },
          "metadata": {
            "tags": []
          },
          "execution_count": 35
        },
        {
          "output_type": "display_data",
          "data": {
            "image/png": "[encoded data removed]",
            "text/plain": [
              "<Figure size 720x576 with 1 Axes>"
            ]
          },
          "metadata": {
            "tags": []
          }
        }
      ]
    },
    {
      "cell_type": "markdown",
      "metadata": {
        "id": "HsMQyB_JJUPz"
      },
      "source": [
        "From the above moving average curve, it seems like the infections spread very quickly since the start of April 2020 at an exponential rate.  After the month of July 2020, there seems to be a gradual decrease in number of incoming COVID +ve patients.\n",
        "\n",
        "\n",
        "Let us now check if the duration between first symptom and hospitalisation date has any relation of fatality.\n",
        "\n",
        "Since there are very absurd values such where difference between first symptomm and hospitalisation for COVID +ve patients are quite high, we will ignore these. We will consider a max of 5 days delta."
      ]
    },
    {
      "cell_type": "code",
      "metadata": {
        "trusted": true,
        "colab": {
          "base_uri": "https://localhost:8080/"
        },
        "id": "oqOAS-9qJUPz",
        "outputId": "54b7e41d-86e5-4d43-da80-1d8d9a90538a"
      },
      "source": [
        "df_pos['delta'].value_counts()[0:8]"
      ],
      "execution_count": null,
      "outputs": [
        {
          "output_type": "execute_result",
          "data": {
            "text/plain": [
              "0 days    27240\n",
              "3 days    16211\n",
              "2 days    15380\n",
              "4 days    13552\n",
              "1 days    12374\n",
              "5 days    10882\n",
              "6 days     6734\n",
              "7 days     6406\n",
              "Name: delta, dtype: int64"
            ]
          },
          "metadata": {
            "tags": []
          },
          "execution_count": 36
        }
      ]
    },
    {
      "cell_type": "code",
      "metadata": {
        "trusted": true,
        "id": "Zqse9RofJUP0"
      },
      "source": [
        "df_delta=df_pos[df_pos['delta']<'8 days']"
      ],
      "execution_count": null,
      "outputs": []
    },
    {
      "cell_type": "code",
      "metadata": {
        "trusted": true,
        "collapsed": true,
        "colab": {
          "base_uri": "https://localhost:8080/"
        },
        "id": "mEnyZUbXJUP0",
        "outputId": "17eda31f-a237-4d78-9144-3c53a7a1eb09"
      },
      "source": [
        "df_delta['Time gap']=df_delta['delta'].astype(str)"
      ],
      "execution_count": null,
      "outputs": [
        {
          "output_type": "stream",
          "text": [
            "/usr/local/lib/python3.6/dist-packages/ipykernel_launcher.py:1: SettingWithCopyWarning: \n",
            "A value is trying to be set on a copy of a slice from a DataFrame.\n",
            "Try using .loc[row_indexer,col_indexer] = value instead\n",
            "\n",
            "See the caveats in the documentation: https://pandas.pydata.org/pandas-docs/stable/user_guide/indexing.html#returning-a-view-versus-a-copy\n",
            "  \"\"\"Entry point for launching an IPython kernel.\n"
          ],
          "name": "stderr"
        }
      ]
    },
    {
      "cell_type": "code",
      "metadata": {
        "trusted": true,
        "collapsed": true,
        "colab": {
          "base_uri": "https://localhost:8080/"
        },
        "id": "GXZ6zcARJUP0",
        "outputId": "d3d6d621-3972-4a14-82e4-038b7372d3ad"
      },
      "source": [
        "df_split=df_delta['Time gap'].str.rsplit('00',expand=True)\n",
        "df_delta['Time gap']=df_split.iloc[:,0]\n"
      ],
      "execution_count": null,
      "outputs": [
        {
          "output_type": "stream",
          "text": [
            "/usr/local/lib/python3.6/dist-packages/ipykernel_launcher.py:2: SettingWithCopyWarning: \n",
            "A value is trying to be set on a copy of a slice from a DataFrame.\n",
            "Try using .loc[row_indexer,col_indexer] = value instead\n",
            "\n",
            "See the caveats in the documentation: https://pandas.pydata.org/pandas-docs/stable/user_guide/indexing.html#returning-a-view-versus-a-copy\n",
            "  \n"
          ],
          "name": "stderr"
        }
      ]
    },
    {
      "cell_type": "code",
      "metadata": {
        "trusted": true,
        "colab": {
          "base_uri": "https://localhost:8080/",
          "height": 713
        },
        "id": "IwzqtDLbJUP0",
        "outputId": "2a5ae200-cb23-4543-cef2-0e060279a8b8"
      },
      "source": [
        "fig=plt.figure(figsize=(20,10))\n",
        "ax1=fig.add_subplot(111)\n",
        "\n",
        "g=sns.countplot('Time gap',hue='Fatal',data=df_delta,palette='rainbow',ax=ax1)\n",
        "ax1.set_ylabel('Count',size=20)\n",
        "ax1.set_xlabel('Time gap',size=20)\n",
        "ax1.set_title('Duration between first symptom and date of hospitalisation with fatality',size=25)\n",
        "ax1.legend(fontsize=15)\n"
      ],
      "execution_count": null,
      "outputs": [
        {
          "output_type": "stream",
          "text": [
            "/usr/local/lib/python3.6/dist-packages/seaborn/_decorators.py:43: FutureWarning: Pass the following variable as a keyword arg: x. From version 0.12, the only valid positional argument will be `data`, and passing other arguments without an explicit keyword will result in an error or misinterpretation.\n",
            "  FutureWarning\n"
          ],
          "name": "stderr"
        },
        {
          "output_type": "execute_result",
          "data": {
            "text/plain": [
              "<matplotlib.legend.Legend at 0x7eff49ef3f28>"
            ]
          },
          "metadata": {
            "tags": []
          },
          "execution_count": 40
        },
        {
          "output_type": "display_data",
          "data": {
            "image/png": "[encoded data removed]",
            "text/plain": [
              "<Figure size 1440x720 with 1 Axes>"
            ]
          },
          "metadata": {
            "tags": []
          }
        }
      ]
    },
    {
      "cell_type": "markdown",
      "metadata": {
        "id": "OUZeixsOJUP1"
      },
      "source": [
        "As we can see from the above barplots, even when patients got admitted on the same day as symptoms, there were quite a few fatalities as compared to others. However, the fatality rate for 7 day difference is also quite high. Hence, it is suggested to only visit the hospital after 1-3 days of selfcare as it doesn't significantly effect fatality.This would help to lessen the burden over the healthcare facilities.\n",
        "\n",
        "\n",
        "### Other patient medical conditions\n",
        "\n",
        "We shall now check how the comorbidities or medical conditions such as pregnancy effects fatality of patients.\n",
        "\n",
        "\n",
        "### Pneumonia, Cardiovascular, Pregnancy, Obesity\n",
        "\n",
        "Let us check how the patients with the above medical conditions have fared."
      ]
    },
    {
      "cell_type": "code",
      "metadata": {
        "trusted": true,
        "colab": {
          "base_uri": "https://localhost:8080/",
          "height": 1000
        },
        "id": "5isv8cqlJUP1",
        "outputId": "2e2fecb1-9a62-4e4c-a8e1-1b50ab517782"
      },
      "source": [
        "fig2=plt.figure(figsize=(15,15))\n",
        "ax1=fig2.add_subplot(2,2,1)\n",
        "ax2=fig2.add_subplot(2,2,2)\n",
        "ax3=fig2.add_subplot(2,2,3)\n",
        "ax4=fig2.add_subplot(2,2,4)\n",
        "df_pneu=df_pos[df_pos['pneumonia']=='Yes']\n",
        "df_preg=df_pos[df_pos['pregnancy']=='Yes']\n",
        "df_card=df_pos[df_pos['cardiovascular']=='Yes']\n",
        "df_obes=df_pos[df_pos['obesity']=='Yes']\n",
        "\n",
        "\n",
        "sns.countplot('pneumonia',data=df_pneu,hue='Fatal',ax=ax1,palette='gnuplot')\n",
        "sns.countplot('pregnancy',data=df_preg,hue='Fatal',ax=ax2,palette='summer')\n",
        "sns.countplot('cardiovascular',data=df_card,hue='Fatal',ax=ax3,palette='viridis')\n",
        "sns.countplot('obesity',data=df_obes,hue='Fatal',ax=ax4,palette='winter')\n",
        "\n",
        "ax1.set_title('Pneumonia + COVID',size=20)\n",
        "ax2.set_title('Pregnancy + COVID',size=20)\n",
        "ax3.set_title('Cardiovascular disease + COVID',size=20)\n",
        "ax4.set_title('Obesity + COVID',size=20)\n",
        "\n",
        "\n",
        "\n",
        "\n",
        "\n",
        "\n",
        "ax1.set_xlabel('Fatality rate: {0:.2f} %'.format(100*df_pneu['Fatal'].value_counts()[1]/df_pneu['Fatal'].shape[0]),size=15)\n",
        "\n",
        "\n",
        "ax2.set_xlabel('Fatality rate: {0:.2f} %'.format(100*df_preg['Fatal'].value_counts()[1]/df_preg['Fatal'].shape[0]),size=15)\n",
        "\n",
        "\n",
        "ax3.set_xlabel('Fatality rate: {0:.2f} %'.format(100*df_card['Fatal'].value_counts()[1]/df_card['Fatal'].shape[0]),size=15)\n",
        "\n",
        "\n",
        "ax4.set_xlabel('Fatality rate: {0:.2f} %'.format(100*df_obes['Fatal'].value_counts()[1]/df_obes['Fatal'].shape[0]),size=15)\n",
        "\n",
        "\n",
        "\n"
      ],
      "execution_count": null,
      "outputs": [
        {
          "output_type": "stream",
          "text": [
            "/usr/local/lib/python3.6/dist-packages/seaborn/_decorators.py:43: FutureWarning: Pass the following variable as a keyword arg: x. From version 0.12, the only valid positional argument will be `data`, and passing other arguments without an explicit keyword will result in an error or misinterpretation.\n",
            "  FutureWarning\n",
            "/usr/local/lib/python3.6/dist-packages/seaborn/_decorators.py:43: FutureWarning: Pass the following variable as a keyword arg: x. From version 0.12, the only valid positional argument will be `data`, and passing other arguments without an explicit keyword will result in an error or misinterpretation.\n",
            "  FutureWarning\n",
            "/usr/local/lib/python3.6/dist-packages/seaborn/_decorators.py:43: FutureWarning: Pass the following variable as a keyword arg: x. From version 0.12, the only valid positional argument will be `data`, and passing other arguments without an explicit keyword will result in an error or misinterpretation.\n",
            "  FutureWarning\n",
            "/usr/local/lib/python3.6/dist-packages/seaborn/_decorators.py:43: FutureWarning: Pass the following variable as a keyword arg: x. From version 0.12, the only valid positional argument will be `data`, and passing other arguments without an explicit keyword will result in an error or misinterpretation.\n",
            "  FutureWarning\n"
          ],
          "name": "stderr"
        },
        {
          "output_type": "execute_result",
          "data": {
            "text/plain": [
              "Text(0.5, 0, 'Fatality rate: 15.70 %')"
            ]
          },
          "metadata": {
            "tags": []
          },
          "execution_count": 41
        },
        {
          "output_type": "display_data",
          "data": {
            "image/png": "[encoded data removed]",
            "text/plain": [
              "<Figure size 1080x1080 with 4 Axes>"
            ]
          },
          "metadata": {
            "tags": []
          }
        }
      ]
    },
    {
      "cell_type": "markdown",
      "metadata": {
        "id": "gUZ-JX5GJUP1"
      },
      "source": [
        "From the above graphs, we can see that patients with pneumonia and COVID-19 had the highest mortality rate followed by cardiovascular diseases.\n",
        "\n",
        "\n",
        "# 4. Conclusion\n",
        "\n",
        "From the analysis of the above data from Mexico, we could draw the following conlusions:\n",
        "\n",
        "* Ages above 60 significantly increased the fatalities for COVID +ve patients\n",
        "* Male fatality was found to be almost twice that of female fatality\n",
        "* Patients with didn't hospitalise themselves even after a week of syptoms and tested positive had reasonable fatalities. If symptoms are severe, it is best to be hospitalised in 2-3 days since the onset.\n",
        "* For patients with comorbities such as pneumonia, obesity or cardiovascular diseases, the fatality is higher.\n",
        "* Pregancy doesn't lead to any significant increase in fatality.\n",
        "\n",
        "\n",
        "# If you found my notebook helpful, an upvote would really help. \n",
        "\n",
        "\n",
        "# Stay safe fellow Kagglers !"
      ]
    },
    {
      "cell_type": "markdown",
      "metadata": {
        "id": "F-kJ0SUKOBdj"
      },
      "source": [
        "# Filling NaN values and making ready for training"
      ]
    },
    {
      "cell_type": "code",
      "metadata": {
        "colab": {
          "base_uri": "https://localhost:8080/",
          "height": 326
        },
        "id": "au8hAR_kM3RJ",
        "outputId": "d063ce5d-52cc-4303-d32c-a0e50efaf70d"
      },
      "source": [
        "df.head()"
      ],
      "execution_count": null,
      "outputs": [
        {
          "output_type": "execute_result",
          "data": {
            "text/html": [
              "<div>\n",
              "<style scoped>\n",
              "    .dataframe tbody tr th:only-of-type {\n",
              "        vertical-align: middle;\n",
              "    }\n",
              "\n",
              "    .dataframe tbody tr th {\n",
              "        vertical-align: top;\n",
              "    }\n",
              "\n",
              "    .dataframe thead th {\n",
              "        text-align: right;\n",
              "    }\n",
              "</style>\n",
              "<table border=\"1\" class=\"dataframe\">\n",
              "  <thead>\n",
              "    <tr style=\"text-align: right;\">\n",
              "      <th></th>\n",
              "      <th>sex</th>\n",
              "      <th>patient_type</th>\n",
              "      <th>entry_date</th>\n",
              "      <th>date_symptoms</th>\n",
              "      <th>date_died</th>\n",
              "      <th>age</th>\n",
              "      <th>intubed</th>\n",
              "      <th>pneumonia</th>\n",
              "      <th>pregnancy</th>\n",
              "      <th>diabetes</th>\n",
              "      <th>copd</th>\n",
              "      <th>asthma</th>\n",
              "      <th>inmsupr</th>\n",
              "      <th>hypertension</th>\n",
              "      <th>other_disease</th>\n",
              "      <th>cardiovascular</th>\n",
              "      <th>obesity</th>\n",
              "      <th>renal_chronic</th>\n",
              "      <th>tobacco</th>\n",
              "      <th>contact_other_covid</th>\n",
              "      <th>Test result</th>\n",
              "      <th>icu</th>\n",
              "      <th>Age band</th>\n",
              "      <th>Count</th>\n",
              "      <th>Fatal</th>\n",
              "      <th>delta</th>\n",
              "    </tr>\n",
              "  </thead>\n",
              "  <tbody>\n",
              "    <tr>\n",
              "      <th>0</th>\n",
              "      <td>Male</td>\n",
              "      <td>1</td>\n",
              "      <td>2020-04-05</td>\n",
              "      <td>2020-02-05</td>\n",
              "      <td>Not Applicable</td>\n",
              "      <td>27</td>\n",
              "      <td>NaN</td>\n",
              "      <td>No</td>\n",
              "      <td>NaN</td>\n",
              "      <td>No</td>\n",
              "      <td>No</td>\n",
              "      <td>No</td>\n",
              "      <td>No</td>\n",
              "      <td>No</td>\n",
              "      <td>No</td>\n",
              "      <td>No</td>\n",
              "      <td>No</td>\n",
              "      <td>No</td>\n",
              "      <td>No</td>\n",
              "      <td>No</td>\n",
              "      <td>Positive</td>\n",
              "      <td>NaN</td>\n",
              "      <td>20-30</td>\n",
              "      <td>1</td>\n",
              "      <td>No</td>\n",
              "      <td>60 days</td>\n",
              "    </tr>\n",
              "    <tr>\n",
              "      <th>1</th>\n",
              "      <td>Male</td>\n",
              "      <td>1</td>\n",
              "      <td>2020-03-19</td>\n",
              "      <td>2020-03-17</td>\n",
              "      <td>Not Applicable</td>\n",
              "      <td>24</td>\n",
              "      <td>NaN</td>\n",
              "      <td>No</td>\n",
              "      <td>NaN</td>\n",
              "      <td>No</td>\n",
              "      <td>No</td>\n",
              "      <td>No</td>\n",
              "      <td>No</td>\n",
              "      <td>No</td>\n",
              "      <td>No</td>\n",
              "      <td>No</td>\n",
              "      <td>No</td>\n",
              "      <td>No</td>\n",
              "      <td>No</td>\n",
              "      <td>NaN</td>\n",
              "      <td>Positive</td>\n",
              "      <td>NaN</td>\n",
              "      <td>20-30</td>\n",
              "      <td>1</td>\n",
              "      <td>No</td>\n",
              "      <td>2 days</td>\n",
              "    </tr>\n",
              "    <tr>\n",
              "      <th>2</th>\n",
              "      <td>Female</td>\n",
              "      <td>2</td>\n",
              "      <td>2020-06-04</td>\n",
              "      <td>2020-01-04</td>\n",
              "      <td>Not Applicable</td>\n",
              "      <td>54</td>\n",
              "      <td>No</td>\n",
              "      <td>No</td>\n",
              "      <td>No</td>\n",
              "      <td>No</td>\n",
              "      <td>No</td>\n",
              "      <td>No</td>\n",
              "      <td>No</td>\n",
              "      <td>No</td>\n",
              "      <td>No</td>\n",
              "      <td>No</td>\n",
              "      <td>Yes</td>\n",
              "      <td>No</td>\n",
              "      <td>No</td>\n",
              "      <td>NaN</td>\n",
              "      <td>Positive</td>\n",
              "      <td>No</td>\n",
              "      <td>50-60</td>\n",
              "      <td>1</td>\n",
              "      <td>No</td>\n",
              "      <td>152 days</td>\n",
              "    </tr>\n",
              "    <tr>\n",
              "      <th>3</th>\n",
              "      <td>Male</td>\n",
              "      <td>2</td>\n",
              "      <td>2020-04-17</td>\n",
              "      <td>2020-10-04</td>\n",
              "      <td>Not Applicable</td>\n",
              "      <td>30</td>\n",
              "      <td>No</td>\n",
              "      <td>Yes</td>\n",
              "      <td>NaN</td>\n",
              "      <td>No</td>\n",
              "      <td>No</td>\n",
              "      <td>No</td>\n",
              "      <td>No</td>\n",
              "      <td>No</td>\n",
              "      <td>No</td>\n",
              "      <td>No</td>\n",
              "      <td>No</td>\n",
              "      <td>No</td>\n",
              "      <td>No</td>\n",
              "      <td>NaN</td>\n",
              "      <td>Positive</td>\n",
              "      <td>No</td>\n",
              "      <td>20-30</td>\n",
              "      <td>1</td>\n",
              "      <td>No</td>\n",
              "      <td>170 days</td>\n",
              "    </tr>\n",
              "    <tr>\n",
              "      <th>4</th>\n",
              "      <td>Female</td>\n",
              "      <td>2</td>\n",
              "      <td>2020-04-13</td>\n",
              "      <td>2020-04-13</td>\n",
              "      <td>22-04-2020</td>\n",
              "      <td>60</td>\n",
              "      <td>No</td>\n",
              "      <td>No</td>\n",
              "      <td>No</td>\n",
              "      <td>Yes</td>\n",
              "      <td>No</td>\n",
              "      <td>No</td>\n",
              "      <td>No</td>\n",
              "      <td>Yes</td>\n",
              "      <td>No</td>\n",
              "      <td>Yes</td>\n",
              "      <td>No</td>\n",
              "      <td>No</td>\n",
              "      <td>No</td>\n",
              "      <td>NaN</td>\n",
              "      <td>Positive</td>\n",
              "      <td>No</td>\n",
              "      <td>50-60</td>\n",
              "      <td>1</td>\n",
              "      <td>Yes</td>\n",
              "      <td>0 days</td>\n",
              "    </tr>\n",
              "  </tbody>\n",
              "</table>\n",
              "</div>"
            ],
            "text/plain": [
              "      sex  patient_type entry_date date_symptoms       date_died  age intubed  \\\n",
              "0    Male             1 2020-04-05    2020-02-05  Not Applicable   27     NaN   \n",
              "1    Male             1 2020-03-19    2020-03-17  Not Applicable   24     NaN   \n",
              "2  Female             2 2020-06-04    2020-01-04  Not Applicable   54      No   \n",
              "3    Male             2 2020-04-17    2020-10-04  Not Applicable   30      No   \n",
              "4  Female             2 2020-04-13    2020-04-13      22-04-2020   60      No   \n",
              "\n",
              "  pneumonia pregnancy diabetes copd asthma inmsupr hypertension other_disease  \\\n",
              "0        No       NaN       No   No     No      No           No            No   \n",
              "1        No       NaN       No   No     No      No           No            No   \n",
              "2        No        No       No   No     No      No           No            No   \n",
              "3       Yes       NaN       No   No     No      No           No            No   \n",
              "4        No        No      Yes   No     No      No          Yes            No   \n",
              "\n",
              "  cardiovascular obesity renal_chronic tobacco contact_other_covid  \\\n",
              "0             No      No            No      No                  No   \n",
              "1             No      No            No      No                 NaN   \n",
              "2             No     Yes            No      No                 NaN   \n",
              "3             No      No            No      No                 NaN   \n",
              "4            Yes      No            No      No                 NaN   \n",
              "\n",
              "  Test result  icu Age band  Count Fatal    delta  \n",
              "0    Positive  NaN    20-30      1    No  60 days  \n",
              "1    Positive  NaN    20-30      1    No   2 days  \n",
              "2    Positive   No    50-60      1    No 152 days  \n",
              "3    Positive   No    20-30      1    No 170 days  \n",
              "4    Positive   No    50-60      1   Yes   0 days  "
            ]
          },
          "metadata": {
            "tags": []
          },
          "execution_count": 42
        }
      ]
    },
    {
      "cell_type": "code",
      "metadata": {
        "id": "FgB6qo8PM8Kr"
      },
      "source": [
        "df.drop(columns=['entry_date','date_symptoms','Count'],inplace=True)"
      ],
      "execution_count": null,
      "outputs": []
    },
    {
      "cell_type": "code",
      "metadata": {
        "colab": {
          "base_uri": "https://localhost:8080/"
        },
        "id": "oOKuAX5WPMRV",
        "outputId": "59fa327e-e173-4ebb-95d4-42643474367e"
      },
      "source": [
        "df.info()"
      ],
      "execution_count": null,
      "outputs": [
        {
          "output_type": "stream",
          "text": [
            "<class 'pandas.core.frame.DataFrame'>\n",
            "RangeIndex: 566602 entries, 0 to 566601\n",
            "Data columns (total 23 columns):\n",
            " #   Column               Non-Null Count   Dtype          \n",
            "---  ------               --------------   -----          \n",
            " 0   sex                  566602 non-null  object         \n",
            " 1   patient_type         566602 non-null  int64          \n",
            " 2   date_died            566602 non-null  object         \n",
            " 3   age                  566602 non-null  int64          \n",
            " 4   intubed              121789 non-null  object         \n",
            " 5   pneumonia            566591 non-null  object         \n",
            " 6   pregnancy            277903 non-null  object         \n",
            " 7   diabetes             564621 non-null  object         \n",
            " 8   copd                 564853 non-null  object         \n",
            " 9   asthma               564850 non-null  object         \n",
            " 10  inmsupr              564622 non-null  object         \n",
            " 11  hypertension         564778 non-null  object         \n",
            " 12  other_disease        564004 non-null  object         \n",
            " 13  cardiovascular       564780 non-null  object         \n",
            " 14  obesity              564821 non-null  object         \n",
            " 15  renal_chronic        564810 non-null  object         \n",
            " 16  tobacco              564695 non-null  object         \n",
            " 17  contact_other_covid  391571 non-null  object         \n",
            " 18  Test result          566602 non-null  object         \n",
            " 19  icu                  121788 non-null  object         \n",
            " 20  Age band             566602 non-null  object         \n",
            " 21  Fatal                566602 non-null  object         \n",
            " 22  delta                566602 non-null  timedelta64[ns]\n",
            "dtypes: int64(2), object(20), timedelta64[ns](1)\n",
            "memory usage: 99.4+ MB\n"
          ],
          "name": "stdout"
        }
      ]
    },
    {
      "cell_type": "code",
      "metadata": {
        "colab": {
          "base_uri": "https://localhost:8080/"
        },
        "id": "RqkLZGB-QZwK",
        "outputId": "2f63aca3-61f2-44cc-c446-2a04895b6813"
      },
      "source": [
        "for x in df.columns:\r\n",
        "  print(df[x].isna().value_counts())"
      ],
      "execution_count": null,
      "outputs": [
        {
          "output_type": "stream",
          "text": [
            "False    566602\n",
            "Name: sex, dtype: int64\n",
            "False    566602\n",
            "Name: patient_type, dtype: int64\n",
            "False    566602\n",
            "Name: date_died, dtype: int64\n",
            "False    566602\n",
            "Name: age, dtype: int64\n",
            "True     444813\n",
            "False    121789\n",
            "Name: intubed, dtype: int64\n",
            "False    566591\n",
            "True         11\n",
            "Name: pneumonia, dtype: int64\n",
            "True     288699\n",
            "False    277903\n",
            "Name: pregnancy, dtype: int64\n",
            "False    564621\n",
            "True       1981\n",
            "Name: diabetes, dtype: int64\n",
            "False    564853\n",
            "True       1749\n",
            "Name: copd, dtype: int64\n",
            "False    564850\n",
            "True       1752\n",
            "Name: asthma, dtype: int64\n",
            "False    564622\n",
            "True       1980\n",
            "Name: inmsupr, dtype: int64\n",
            "False    564778\n",
            "True       1824\n",
            "Name: hypertension, dtype: int64\n",
            "False    564004\n",
            "True       2598\n",
            "Name: other_disease, dtype: int64\n",
            "False    564780\n",
            "True       1822\n",
            "Name: cardiovascular, dtype: int64\n",
            "False    564821\n",
            "True       1781\n",
            "Name: obesity, dtype: int64\n",
            "False    564810\n",
            "True       1792\n",
            "Name: renal_chronic, dtype: int64\n",
            "False    564695\n",
            "True       1907\n",
            "Name: tobacco, dtype: int64\n",
            "False    391571\n",
            "True     175031\n",
            "Name: contact_other_covid, dtype: int64\n",
            "False    566602\n",
            "Name: Test result, dtype: int64\n",
            "True     444814\n",
            "False    121788\n",
            "Name: icu, dtype: int64\n",
            "False    566602\n",
            "Name: Age band, dtype: int64\n",
            "False    566602\n",
            "Name: Fatal, dtype: int64\n",
            "False    566602\n",
            "Name: delta, dtype: int64\n"
          ],
          "name": "stdout"
        }
      ]
    },
    {
      "cell_type": "code",
      "metadata": {
        "colab": {
          "base_uri": "https://localhost:8080/"
        },
        "id": "mQXrv8vVV_Ce",
        "outputId": "0c7bb32b-d330-4b13-b004-bfbcd1b1fc56"
      },
      "source": [
        "df.columns"
      ],
      "execution_count": null,
      "outputs": [
        {
          "output_type": "execute_result",
          "data": {
            "text/plain": [
              "Index(['sex', 'patient_type', 'date_died', 'age', 'intubed', 'pneumonia',\n",
              "       'pregnancy', 'diabetes', 'copd', 'asthma', 'inmsupr', 'hypertension',\n",
              "       'other_disease', 'cardiovascular', 'obesity', 'renal_chronic',\n",
              "       'tobacco', 'contact_other_covid', 'Test result', 'icu', 'Age band',\n",
              "       'Fatal', 'delta'],\n",
              "      dtype='object')"
            ]
          },
          "metadata": {
            "tags": []
          },
          "execution_count": 46
        }
      ]
    },
    {
      "cell_type": "code",
      "metadata": {
        "id": "lpSdcDC-QkTA"
      },
      "source": [
        "for x in ['intubed', 'pneumonia',\r\n",
        "       'pregnancy', 'diabetes', 'copd', 'asthma', 'inmsupr', 'hypertension',\r\n",
        "       'other_disease', 'cardiovascular', 'obesity', 'renal_chronic',\r\n",
        "       'tobacco', 'contact_other_covid','icu']:\r\n",
        "       df[x].fillna('No',inplace=True)"
      ],
      "execution_count": null,
      "outputs": []
    },
    {
      "cell_type": "code",
      "metadata": {
        "colab": {
          "base_uri": "https://localhost:8080/",
          "height": 326
        },
        "id": "pLeddb5kVY1V",
        "outputId": "8ab3e7b9-1d98-497e-c647-5cd946dbf447"
      },
      "source": [
        "df.head()"
      ],
      "execution_count": null,
      "outputs": [
        {
          "output_type": "execute_result",
          "data": {
            "text/html": [
              "<div>\n",
              "<style scoped>\n",
              "    .dataframe tbody tr th:only-of-type {\n",
              "        vertical-align: middle;\n",
              "    }\n",
              "\n",
              "    .dataframe tbody tr th {\n",
              "        vertical-align: top;\n",
              "    }\n",
              "\n",
              "    .dataframe thead th {\n",
              "        text-align: right;\n",
              "    }\n",
              "</style>\n",
              "<table border=\"1\" class=\"dataframe\">\n",
              "  <thead>\n",
              "    <tr style=\"text-align: right;\">\n",
              "      <th></th>\n",
              "      <th>sex</th>\n",
              "      <th>patient_type</th>\n",
              "      <th>date_died</th>\n",
              "      <th>age</th>\n",
              "      <th>intubed</th>\n",
              "      <th>pneumonia</th>\n",
              "      <th>pregnancy</th>\n",
              "      <th>diabetes</th>\n",
              "      <th>copd</th>\n",
              "      <th>asthma</th>\n",
              "      <th>inmsupr</th>\n",
              "      <th>hypertension</th>\n",
              "      <th>other_disease</th>\n",
              "      <th>cardiovascular</th>\n",
              "      <th>obesity</th>\n",
              "      <th>renal_chronic</th>\n",
              "      <th>tobacco</th>\n",
              "      <th>contact_other_covid</th>\n",
              "      <th>Test result</th>\n",
              "      <th>icu</th>\n",
              "      <th>Age band</th>\n",
              "      <th>Fatal</th>\n",
              "      <th>delta</th>\n",
              "    </tr>\n",
              "  </thead>\n",
              "  <tbody>\n",
              "    <tr>\n",
              "      <th>0</th>\n",
              "      <td>Male</td>\n",
              "      <td>1</td>\n",
              "      <td>Not Applicable</td>\n",
              "      <td>27</td>\n",
              "      <td>No</td>\n",
              "      <td>No</td>\n",
              "      <td>No</td>\n",
              "      <td>No</td>\n",
              "      <td>No</td>\n",
              "      <td>No</td>\n",
              "      <td>No</td>\n",
              "      <td>No</td>\n",
              "      <td>No</td>\n",
              "      <td>No</td>\n",
              "      <td>No</td>\n",
              "      <td>No</td>\n",
              "      <td>No</td>\n",
              "      <td>No</td>\n",
              "      <td>Positive</td>\n",
              "      <td>No</td>\n",
              "      <td>20-30</td>\n",
              "      <td>No</td>\n",
              "      <td>60 days</td>\n",
              "    </tr>\n",
              "    <tr>\n",
              "      <th>1</th>\n",
              "      <td>Male</td>\n",
              "      <td>1</td>\n",
              "      <td>Not Applicable</td>\n",
              "      <td>24</td>\n",
              "      <td>No</td>\n",
              "      <td>No</td>\n",
              "      <td>No</td>\n",
              "      <td>No</td>\n",
              "      <td>No</td>\n",
              "      <td>No</td>\n",
              "      <td>No</td>\n",
              "      <td>No</td>\n",
              "      <td>No</td>\n",
              "      <td>No</td>\n",
              "      <td>No</td>\n",
              "      <td>No</td>\n",
              "      <td>No</td>\n",
              "      <td>No</td>\n",
              "      <td>Positive</td>\n",
              "      <td>No</td>\n",
              "      <td>20-30</td>\n",
              "      <td>No</td>\n",
              "      <td>2 days</td>\n",
              "    </tr>\n",
              "    <tr>\n",
              "      <th>2</th>\n",
              "      <td>Female</td>\n",
              "      <td>2</td>\n",
              "      <td>Not Applicable</td>\n",
              "      <td>54</td>\n",
              "      <td>No</td>\n",
              "      <td>No</td>\n",
              "      <td>No</td>\n",
              "      <td>No</td>\n",
              "      <td>No</td>\n",
              "      <td>No</td>\n",
              "      <td>No</td>\n",
              "      <td>No</td>\n",
              "      <td>No</td>\n",
              "      <td>No</td>\n",
              "      <td>Yes</td>\n",
              "      <td>No</td>\n",
              "      <td>No</td>\n",
              "      <td>No</td>\n",
              "      <td>Positive</td>\n",
              "      <td>No</td>\n",
              "      <td>50-60</td>\n",
              "      <td>No</td>\n",
              "      <td>152 days</td>\n",
              "    </tr>\n",
              "    <tr>\n",
              "      <th>3</th>\n",
              "      <td>Male</td>\n",
              "      <td>2</td>\n",
              "      <td>Not Applicable</td>\n",
              "      <td>30</td>\n",
              "      <td>No</td>\n",
              "      <td>Yes</td>\n",
              "      <td>No</td>\n",
              "      <td>No</td>\n",
              "      <td>No</td>\n",
              "      <td>No</td>\n",
              "      <td>No</td>\n",
              "      <td>No</td>\n",
              "      <td>No</td>\n",
              "      <td>No</td>\n",
              "      <td>No</td>\n",
              "      <td>No</td>\n",
              "      <td>No</td>\n",
              "      <td>No</td>\n",
              "      <td>Positive</td>\n",
              "      <td>No</td>\n",
              "      <td>20-30</td>\n",
              "      <td>No</td>\n",
              "      <td>170 days</td>\n",
              "    </tr>\n",
              "    <tr>\n",
              "      <th>4</th>\n",
              "      <td>Female</td>\n",
              "      <td>2</td>\n",
              "      <td>22-04-2020</td>\n",
              "      <td>60</td>\n",
              "      <td>No</td>\n",
              "      <td>No</td>\n",
              "      <td>No</td>\n",
              "      <td>Yes</td>\n",
              "      <td>No</td>\n",
              "      <td>No</td>\n",
              "      <td>No</td>\n",
              "      <td>Yes</td>\n",
              "      <td>No</td>\n",
              "      <td>Yes</td>\n",
              "      <td>No</td>\n",
              "      <td>No</td>\n",
              "      <td>No</td>\n",
              "      <td>No</td>\n",
              "      <td>Positive</td>\n",
              "      <td>No</td>\n",
              "      <td>50-60</td>\n",
              "      <td>Yes</td>\n",
              "      <td>0 days</td>\n",
              "    </tr>\n",
              "  </tbody>\n",
              "</table>\n",
              "</div>"
            ],
            "text/plain": [
              "      sex  patient_type       date_died  age intubed pneumonia pregnancy  \\\n",
              "0    Male             1  Not Applicable   27      No        No        No   \n",
              "1    Male             1  Not Applicable   24      No        No        No   \n",
              "2  Female             2  Not Applicable   54      No        No        No   \n",
              "3    Male             2  Not Applicable   30      No       Yes        No   \n",
              "4  Female             2      22-04-2020   60      No        No        No   \n",
              "\n",
              "  diabetes copd asthma inmsupr hypertension other_disease cardiovascular  \\\n",
              "0       No   No     No      No           No            No             No   \n",
              "1       No   No     No      No           No            No             No   \n",
              "2       No   No     No      No           No            No             No   \n",
              "3       No   No     No      No           No            No             No   \n",
              "4      Yes   No     No      No          Yes            No            Yes   \n",
              "\n",
              "  obesity renal_chronic tobacco contact_other_covid Test result icu Age band  \\\n",
              "0      No            No      No                  No    Positive  No    20-30   \n",
              "1      No            No      No                  No    Positive  No    20-30   \n",
              "2     Yes            No      No                  No    Positive  No    50-60   \n",
              "3      No            No      No                  No    Positive  No    20-30   \n",
              "4      No            No      No                  No    Positive  No    50-60   \n",
              "\n",
              "  Fatal    delta  \n",
              "0    No  60 days  \n",
              "1    No   2 days  \n",
              "2    No 152 days  \n",
              "3    No 170 days  \n",
              "4   Yes   0 days  "
            ]
          },
          "metadata": {
            "tags": []
          },
          "execution_count": 48
        }
      ]
    },
    {
      "cell_type": "code",
      "metadata": {
        "id": "pQvRqBqxW4nP",
        "colab": {
          "base_uri": "https://localhost:8080/"
        },
        "outputId": "89cd5823-0ac0-4e00-c969-b92b193223f4"
      },
      "source": [
        "df.shape"
      ],
      "execution_count": null,
      "outputs": [
        {
          "output_type": "execute_result",
          "data": {
            "text/plain": [
              "(566602, 23)"
            ]
          },
          "metadata": {
            "tags": []
          },
          "execution_count": 49
        }
      ]
    },
    {
      "cell_type": "code",
      "metadata": {
        "id": "ZQFyhT8qXBDt"
      },
      "source": [
        "tmp = pd.read_csv('/content/drive/MyDrive/data/covid19/Refined.csv')"
      ],
      "execution_count": 3,
      "outputs": []
    },
    {
      "cell_type": "code",
      "metadata": {
        "colab": {
          "base_uri": "https://localhost:8080/",
          "height": 241
        },
        "id": "GcocA7uVNR4E",
        "outputId": "c5d967a6-72a5-4abb-e53a-076384714e23"
      },
      "source": [
        "tmp.head()"
      ],
      "execution_count": 4,
      "outputs": [
        {
          "output_type": "execute_result",
          "data": {
            "text/html": [
              "<div>\n",
              "<style scoped>\n",
              "    .dataframe tbody tr th:only-of-type {\n",
              "        vertical-align: middle;\n",
              "    }\n",
              "\n",
              "    .dataframe tbody tr th {\n",
              "        vertical-align: top;\n",
              "    }\n",
              "\n",
              "    .dataframe thead th {\n",
              "        text-align: right;\n",
              "    }\n",
              "</style>\n",
              "<table border=\"1\" class=\"dataframe\">\n",
              "  <thead>\n",
              "    <tr style=\"text-align: right;\">\n",
              "      <th></th>\n",
              "      <th>sex</th>\n",
              "      <th>patient_type</th>\n",
              "      <th>date_died</th>\n",
              "      <th>age</th>\n",
              "      <th>intubed</th>\n",
              "      <th>pneumonia</th>\n",
              "      <th>pregnancy</th>\n",
              "      <th>diabetes</th>\n",
              "      <th>copd</th>\n",
              "      <th>asthma</th>\n",
              "      <th>inmsupr</th>\n",
              "      <th>hypertension</th>\n",
              "      <th>other_disease</th>\n",
              "      <th>cardiovascular</th>\n",
              "      <th>obesity</th>\n",
              "      <th>renal_chronic</th>\n",
              "      <th>tobacco</th>\n",
              "      <th>contact_other_covid</th>\n",
              "      <th>Test result</th>\n",
              "      <th>icu</th>\n",
              "      <th>Age band</th>\n",
              "      <th>Fatal</th>\n",
              "      <th>delta</th>\n",
              "    </tr>\n",
              "  </thead>\n",
              "  <tbody>\n",
              "    <tr>\n",
              "      <th>0</th>\n",
              "      <td>1</td>\n",
              "      <td>1</td>\n",
              "      <td>0</td>\n",
              "      <td>27</td>\n",
              "      <td>0</td>\n",
              "      <td>0</td>\n",
              "      <td>0</td>\n",
              "      <td>0</td>\n",
              "      <td>0</td>\n",
              "      <td>0</td>\n",
              "      <td>0</td>\n",
              "      <td>0</td>\n",
              "      <td>0</td>\n",
              "      <td>0</td>\n",
              "      <td>0</td>\n",
              "      <td>0</td>\n",
              "      <td>0</td>\n",
              "      <td>0</td>\n",
              "      <td>1</td>\n",
              "      <td>0</td>\n",
              "      <td>0</td>\n",
              "      <td>0</td>\n",
              "      <td>60</td>\n",
              "    </tr>\n",
              "    <tr>\n",
              "      <th>1</th>\n",
              "      <td>1</td>\n",
              "      <td>1</td>\n",
              "      <td>0</td>\n",
              "      <td>24</td>\n",
              "      <td>0</td>\n",
              "      <td>0</td>\n",
              "      <td>0</td>\n",
              "      <td>0</td>\n",
              "      <td>0</td>\n",
              "      <td>0</td>\n",
              "      <td>0</td>\n",
              "      <td>0</td>\n",
              "      <td>0</td>\n",
              "      <td>0</td>\n",
              "      <td>0</td>\n",
              "      <td>0</td>\n",
              "      <td>0</td>\n",
              "      <td>0</td>\n",
              "      <td>1</td>\n",
              "      <td>0</td>\n",
              "      <td>0</td>\n",
              "      <td>0</td>\n",
              "      <td>2</td>\n",
              "    </tr>\n",
              "    <tr>\n",
              "      <th>2</th>\n",
              "      <td>0</td>\n",
              "      <td>2</td>\n",
              "      <td>0</td>\n",
              "      <td>54</td>\n",
              "      <td>0</td>\n",
              "      <td>0</td>\n",
              "      <td>0</td>\n",
              "      <td>0</td>\n",
              "      <td>0</td>\n",
              "      <td>0</td>\n",
              "      <td>0</td>\n",
              "      <td>0</td>\n",
              "      <td>0</td>\n",
              "      <td>0</td>\n",
              "      <td>1</td>\n",
              "      <td>0</td>\n",
              "      <td>0</td>\n",
              "      <td>0</td>\n",
              "      <td>1</td>\n",
              "      <td>0</td>\n",
              "      <td>1</td>\n",
              "      <td>0</td>\n",
              "      <td>152</td>\n",
              "    </tr>\n",
              "    <tr>\n",
              "      <th>3</th>\n",
              "      <td>1</td>\n",
              "      <td>2</td>\n",
              "      <td>0</td>\n",
              "      <td>30</td>\n",
              "      <td>0</td>\n",
              "      <td>1</td>\n",
              "      <td>0</td>\n",
              "      <td>0</td>\n",
              "      <td>0</td>\n",
              "      <td>0</td>\n",
              "      <td>0</td>\n",
              "      <td>0</td>\n",
              "      <td>0</td>\n",
              "      <td>0</td>\n",
              "      <td>0</td>\n",
              "      <td>0</td>\n",
              "      <td>0</td>\n",
              "      <td>0</td>\n",
              "      <td>1</td>\n",
              "      <td>0</td>\n",
              "      <td>0</td>\n",
              "      <td>0</td>\n",
              "      <td>170</td>\n",
              "    </tr>\n",
              "    <tr>\n",
              "      <th>4</th>\n",
              "      <td>0</td>\n",
              "      <td>2</td>\n",
              "      <td>1</td>\n",
              "      <td>60</td>\n",
              "      <td>0</td>\n",
              "      <td>0</td>\n",
              "      <td>0</td>\n",
              "      <td>1</td>\n",
              "      <td>0</td>\n",
              "      <td>0</td>\n",
              "      <td>0</td>\n",
              "      <td>1</td>\n",
              "      <td>0</td>\n",
              "      <td>1</td>\n",
              "      <td>0</td>\n",
              "      <td>0</td>\n",
              "      <td>0</td>\n",
              "      <td>0</td>\n",
              "      <td>1</td>\n",
              "      <td>0</td>\n",
              "      <td>1</td>\n",
              "      <td>1</td>\n",
              "      <td>0</td>\n",
              "    </tr>\n",
              "  </tbody>\n",
              "</table>\n",
              "</div>"
            ],
            "text/plain": [
              "   sex  patient_type  date_died  age  ...  icu  Age band  Fatal  delta\n",
              "0    1             1          0   27  ...    0         0      0     60\n",
              "1    1             1          0   24  ...    0         0      0      2\n",
              "2    0             2          0   54  ...    0         1      0    152\n",
              "3    1             2          0   30  ...    0         0      0    170\n",
              "4    0             2          1   60  ...    0         1      1      0\n",
              "\n",
              "[5 rows x 23 columns]"
            ]
          },
          "metadata": {
            "tags": []
          },
          "execution_count": 4
        }
      ]
    },
    {
      "cell_type": "code",
      "metadata": {
        "colab": {
          "base_uri": "https://localhost:8080/"
        },
        "id": "2lxJYICJNUmi",
        "outputId": "23ccf78b-5ab5-4a37-93e5-36d939dbb020"
      },
      "source": [
        "tmp.info()"
      ],
      "execution_count": 5,
      "outputs": [
        {
          "output_type": "stream",
          "text": [
            "<class 'pandas.core.frame.DataFrame'>\n",
            "RangeIndex: 566602 entries, 0 to 566601\n",
            "Data columns (total 23 columns):\n",
            " #   Column               Non-Null Count   Dtype\n",
            "---  ------               --------------   -----\n",
            " 0   sex                  566602 non-null  int64\n",
            " 1   patient_type         566602 non-null  int64\n",
            " 2   date_died            566602 non-null  int64\n",
            " 3   age                  566602 non-null  int64\n",
            " 4   intubed              566602 non-null  int64\n",
            " 5   pneumonia            566602 non-null  int64\n",
            " 6   pregnancy            566602 non-null  int64\n",
            " 7   diabetes             566602 non-null  int64\n",
            " 8   copd                 566602 non-null  int64\n",
            " 9   asthma               566602 non-null  int64\n",
            " 10  inmsupr              566602 non-null  int64\n",
            " 11  hypertension         566602 non-null  int64\n",
            " 12  other_disease        566602 non-null  int64\n",
            " 13  cardiovascular       566602 non-null  int64\n",
            " 14  obesity              566602 non-null  int64\n",
            " 15  renal_chronic        566602 non-null  int64\n",
            " 16  tobacco              566602 non-null  int64\n",
            " 17  contact_other_covid  566602 non-null  int64\n",
            " 18  Test result          566602 non-null  int64\n",
            " 19  icu                  566602 non-null  int64\n",
            " 20  Age band             566602 non-null  int64\n",
            " 21  Fatal                566602 non-null  int64\n",
            " 22  delta                566602 non-null  int64\n",
            "dtypes: int64(23)\n",
            "memory usage: 99.4 MB\n"
          ],
          "name": "stdout"
        }
      ]
    },
    {
      "cell_type": "code",
      "metadata": {
        "colab": {
          "base_uri": "https://localhost:8080/"
        },
        "id": "PtBVLa43NZ16",
        "outputId": "8db38699-a09b-47bb-c9aa-c361317c7c84"
      },
      "source": [
        "for x in tmp.columns:\r\n",
        "    print(x)\r\n",
        "    print(tmp[x].unique())"
      ],
      "execution_count": 7,
      "outputs": [
        {
          "output_type": "stream",
          "text": [
            "sex\n",
            "[1 0]\n",
            "patient_type\n",
            "[1 2]\n",
            "date_died\n",
            "[0 1]\n",
            "age\n",
            "[ 27  24  54  30  60  47  63  56  41  39  46  45  28  34  38  49  25  40\n",
            "  61  31  33  52  83  43  77  37  32  53  42  57  48  59  44  65  73  71\n",
            "  51  50  35  67  55  78  29  79  36  66  74  58  84  26  80   3  75  68\n",
            "  87  69  89  76  62  18  23  70  17  72   0  81  64  88  20  15  22  14\n",
            "  16  86  92  90  82   5   7  11  21  85  95  19   1   4  97  10  93   9\n",
            "   8  12  13   6  91   2  98  96  94 100 119 101  99 103 114 106 120 105\n",
            " 102 116 104 118 109 110 117 115 113 108 107 111]\n",
            "intubed\n",
            "[0 1]\n",
            "pneumonia\n",
            "[0 1]\n",
            "pregnancy\n",
            "[0 1]\n",
            "diabetes\n",
            "[0 1]\n",
            "copd\n",
            "[0 1]\n",
            "asthma\n",
            "[0 1]\n",
            "inmsupr\n",
            "[0 1]\n",
            "hypertension\n",
            "[0 1]\n",
            "other_disease\n",
            "[0 1]\n",
            "cardiovascular\n",
            "[0 1]\n",
            "obesity\n",
            "[0 1]\n",
            "renal_chronic\n",
            "[0 1]\n",
            "tobacco\n",
            "[0 1]\n",
            "contact_other_covid\n",
            "[0 1]\n",
            "Test result\n",
            "[1 0 2]\n",
            "icu\n",
            "[0 1]\n",
            "Age band\n",
            "[0 1 2 3 4 5 6 7 8]\n",
            "Fatal\n",
            "[0 1]\n",
            "delta\n",
            "[ 60   2 152 170   0   9   3   4   5  91  10 121 304   1  21  84   6 137\n",
            "   7 111   8  41 153 235  24  92  82  31  25  51 202 172 248 112 174 144\n",
            "  49  20  61 182  30 205 233 122 184  77  14  19 113  42 230  52 214 204\n",
            "  26  80  83  53 101 305  86  43 106 245  75 104  62 171 201  79 169  27\n",
            " 190 243  55 168 109  12 115 244  70 213  22  97  40  81 110  36 176 123\n",
            "  90  76 100  73 193 138  67  78 197 232 140  23 231  69 129 105 143 141\n",
            "  37 173 175  11 200 160  66  68  29  17  98  85 114 132  18 146  71  47\n",
            " 102 142  56 108 226 183 275 234  13 228 116 206  99 199 139  15  48 227\n",
            "  39 151  45 145 133  38  16 203 136 158  96  54  46  72  74 195 335 128\n",
            " 274 164 167 131 135 103  44 130 189 198 107 161 159 134 192 162  50 220\n",
            " 191  35  33  32 165  65 166 225 221  95 218 194 222 224  87 163 188 260\n",
            " 219 196 127  34 126  28 255 229 257 261 157 258 223 265 259 264 263 256\n",
            " 187 212 273 251 249  64 236 247 254 252 303 181 262  93  89 154  59 253\n",
            " 120 321 293 290 322 320 323  63 292 291 242 186 286 280 281 125 250 185\n",
            " 334 217 289 156 215  57 287 288 150 278 316]\n"
          ],
          "name": "stdout"
        }
      ]
    },
    {
      "cell_type": "code",
      "metadata": {
        "id": "ANtTALMGOk6y"
      },
      "source": [
        "tmp.drop(columns=['date_died','age'],inplace=True)"
      ],
      "execution_count": 8,
      "outputs": []
    },
    {
      "cell_type": "code",
      "metadata": {
        "id": "0VcZ8pZhh-sQ",
        "outputId": "74d0ea2c-4ac8-4574-d638-8ec6eabf518d",
        "colab": {
          "base_uri": "https://localhost:8080/"
        }
      },
      "source": [
        "for x in tmp.columns:\r\n",
        "    print(x)\r\n",
        "    print(tmp[x].unique())"
      ],
      "execution_count": 9,
      "outputs": [
        {
          "output_type": "stream",
          "text": [
            "sex\n",
            "[1 0]\n",
            "patient_type\n",
            "[1 2]\n",
            "intubed\n",
            "[0 1]\n",
            "pneumonia\n",
            "[0 1]\n",
            "pregnancy\n",
            "[0 1]\n",
            "diabetes\n",
            "[0 1]\n",
            "copd\n",
            "[0 1]\n",
            "asthma\n",
            "[0 1]\n",
            "inmsupr\n",
            "[0 1]\n",
            "hypertension\n",
            "[0 1]\n",
            "other_disease\n",
            "[0 1]\n",
            "cardiovascular\n",
            "[0 1]\n",
            "obesity\n",
            "[0 1]\n",
            "renal_chronic\n",
            "[0 1]\n",
            "tobacco\n",
            "[0 1]\n",
            "contact_other_covid\n",
            "[0 1]\n",
            "Test result\n",
            "[1 0 2]\n",
            "icu\n",
            "[0 1]\n",
            "Age band\n",
            "[0 1 2 3 4 5 6 7 8]\n",
            "Fatal\n",
            "[0 1]\n",
            "delta\n",
            "[ 60   2 152 170   0   9   3   4   5  91  10 121 304   1  21  84   6 137\n",
            "   7 111   8  41 153 235  24  92  82  31  25  51 202 172 248 112 174 144\n",
            "  49  20  61 182  30 205 233 122 184  77  14  19 113  42 230  52 214 204\n",
            "  26  80  83  53 101 305  86  43 106 245  75 104  62 171 201  79 169  27\n",
            " 190 243  55 168 109  12 115 244  70 213  22  97  40  81 110  36 176 123\n",
            "  90  76 100  73 193 138  67  78 197 232 140  23 231  69 129 105 143 141\n",
            "  37 173 175  11 200 160  66  68  29  17  98  85 114 132  18 146  71  47\n",
            " 102 142  56 108 226 183 275 234  13 228 116 206  99 199 139  15  48 227\n",
            "  39 151  45 145 133  38  16 203 136 158  96  54  46  72  74 195 335 128\n",
            " 274 164 167 131 135 103  44 130 189 198 107 161 159 134 192 162  50 220\n",
            " 191  35  33  32 165  65 166 225 221  95 218 194 222 224  87 163 188 260\n",
            " 219 196 127  34 126  28 255 229 257 261 157 258 223 265 259 264 263 256\n",
            " 187 212 273 251 249  64 236 247 254 252 303 181 262  93  89 154  59 253\n",
            " 120 321 293 290 322 320 323  63 292 291 242 186 286 280 281 125 250 185\n",
            " 334 217 289 156 215  57 287 288 150 278 316]\n"
          ],
          "name": "stdout"
        }
      ]
    },
    {
      "cell_type": "markdown",
      "metadata": {
        "id": "W2LYqdiIOm9u"
      },
      "source": [
        "# Train Test split"
      ]
    },
    {
      "cell_type": "code",
      "metadata": {
        "id": "lhtIQKo_OpGS"
      },
      "source": [
        "X=tmp\r\n",
        "Y = tmp['Fatal']"
      ],
      "execution_count": 10,
      "outputs": []
    },
    {
      "cell_type": "code",
      "metadata": {
        "id": "f40OALCK7UEb"
      },
      "source": [
        "tmp.drop(columns=['Fatal'],inplace=True)"
      ],
      "execution_count": 11,
      "outputs": []
    },
    {
      "cell_type": "code",
      "metadata": {
        "colab": {
          "base_uri": "https://localhost:8080/",
          "height": 241
        },
        "id": "wfImT7o3SrgJ",
        "outputId": "af79899b-cf9a-46b2-9e7d-d334b0dad528"
      },
      "source": [
        "X.head()"
      ],
      "execution_count": 12,
      "outputs": [
        {
          "output_type": "execute_result",
          "data": {
            "text/html": [
              "<div>\n",
              "<style scoped>\n",
              "    .dataframe tbody tr th:only-of-type {\n",
              "        vertical-align: middle;\n",
              "    }\n",
              "\n",
              "    .dataframe tbody tr th {\n",
              "        vertical-align: top;\n",
              "    }\n",
              "\n",
              "    .dataframe thead th {\n",
              "        text-align: right;\n",
              "    }\n",
              "</style>\n",
              "<table border=\"1\" class=\"dataframe\">\n",
              "  <thead>\n",
              "    <tr style=\"text-align: right;\">\n",
              "      <th></th>\n",
              "      <th>sex</th>\n",
              "      <th>patient_type</th>\n",
              "      <th>intubed</th>\n",
              "      <th>pneumonia</th>\n",
              "      <th>pregnancy</th>\n",
              "      <th>diabetes</th>\n",
              "      <th>copd</th>\n",
              "      <th>asthma</th>\n",
              "      <th>inmsupr</th>\n",
              "      <th>hypertension</th>\n",
              "      <th>other_disease</th>\n",
              "      <th>cardiovascular</th>\n",
              "      <th>obesity</th>\n",
              "      <th>renal_chronic</th>\n",
              "      <th>tobacco</th>\n",
              "      <th>contact_other_covid</th>\n",
              "      <th>Test result</th>\n",
              "      <th>icu</th>\n",
              "      <th>Age band</th>\n",
              "      <th>delta</th>\n",
              "    </tr>\n",
              "  </thead>\n",
              "  <tbody>\n",
              "    <tr>\n",
              "      <th>0</th>\n",
              "      <td>1</td>\n",
              "      <td>1</td>\n",
              "      <td>0</td>\n",
              "      <td>0</td>\n",
              "      <td>0</td>\n",
              "      <td>0</td>\n",
              "      <td>0</td>\n",
              "      <td>0</td>\n",
              "      <td>0</td>\n",
              "      <td>0</td>\n",
              "      <td>0</td>\n",
              "      <td>0</td>\n",
              "      <td>0</td>\n",
              "      <td>0</td>\n",
              "      <td>0</td>\n",
              "      <td>0</td>\n",
              "      <td>1</td>\n",
              "      <td>0</td>\n",
              "      <td>0</td>\n",
              "      <td>60</td>\n",
              "    </tr>\n",
              "    <tr>\n",
              "      <th>1</th>\n",
              "      <td>1</td>\n",
              "      <td>1</td>\n",
              "      <td>0</td>\n",
              "      <td>0</td>\n",
              "      <td>0</td>\n",
              "      <td>0</td>\n",
              "      <td>0</td>\n",
              "      <td>0</td>\n",
              "      <td>0</td>\n",
              "      <td>0</td>\n",
              "      <td>0</td>\n",
              "      <td>0</td>\n",
              "      <td>0</td>\n",
              "      <td>0</td>\n",
              "      <td>0</td>\n",
              "      <td>0</td>\n",
              "      <td>1</td>\n",
              "      <td>0</td>\n",
              "      <td>0</td>\n",
              "      <td>2</td>\n",
              "    </tr>\n",
              "    <tr>\n",
              "      <th>2</th>\n",
              "      <td>0</td>\n",
              "      <td>2</td>\n",
              "      <td>0</td>\n",
              "      <td>0</td>\n",
              "      <td>0</td>\n",
              "      <td>0</td>\n",
              "      <td>0</td>\n",
              "      <td>0</td>\n",
              "      <td>0</td>\n",
              "      <td>0</td>\n",
              "      <td>0</td>\n",
              "      <td>0</td>\n",
              "      <td>1</td>\n",
              "      <td>0</td>\n",
              "      <td>0</td>\n",
              "      <td>0</td>\n",
              "      <td>1</td>\n",
              "      <td>0</td>\n",
              "      <td>1</td>\n",
              "      <td>152</td>\n",
              "    </tr>\n",
              "    <tr>\n",
              "      <th>3</th>\n",
              "      <td>1</td>\n",
              "      <td>2</td>\n",
              "      <td>0</td>\n",
              "      <td>1</td>\n",
              "      <td>0</td>\n",
              "      <td>0</td>\n",
              "      <td>0</td>\n",
              "      <td>0</td>\n",
              "      <td>0</td>\n",
              "      <td>0</td>\n",
              "      <td>0</td>\n",
              "      <td>0</td>\n",
              "      <td>0</td>\n",
              "      <td>0</td>\n",
              "      <td>0</td>\n",
              "      <td>0</td>\n",
              "      <td>1</td>\n",
              "      <td>0</td>\n",
              "      <td>0</td>\n",
              "      <td>170</td>\n",
              "    </tr>\n",
              "    <tr>\n",
              "      <th>4</th>\n",
              "      <td>0</td>\n",
              "      <td>2</td>\n",
              "      <td>0</td>\n",
              "      <td>0</td>\n",
              "      <td>0</td>\n",
              "      <td>1</td>\n",
              "      <td>0</td>\n",
              "      <td>0</td>\n",
              "      <td>0</td>\n",
              "      <td>1</td>\n",
              "      <td>0</td>\n",
              "      <td>1</td>\n",
              "      <td>0</td>\n",
              "      <td>0</td>\n",
              "      <td>0</td>\n",
              "      <td>0</td>\n",
              "      <td>1</td>\n",
              "      <td>0</td>\n",
              "      <td>1</td>\n",
              "      <td>0</td>\n",
              "    </tr>\n",
              "  </tbody>\n",
              "</table>\n",
              "</div>"
            ],
            "text/plain": [
              "   sex  patient_type  intubed  pneumonia  ...  Test result  icu  Age band  delta\n",
              "0    1             1        0          0  ...            1    0         0     60\n",
              "1    1             1        0          0  ...            1    0         0      2\n",
              "2    0             2        0          0  ...            1    0         1    152\n",
              "3    1             2        0          1  ...            1    0         0    170\n",
              "4    0             2        0          0  ...            1    0         1      0\n",
              "\n",
              "[5 rows x 20 columns]"
            ]
          },
          "metadata": {
            "tags": []
          },
          "execution_count": 12
        }
      ]
    },
    {
      "cell_type": "code",
      "metadata": {
        "id": "7FkAuRu67aXm",
        "outputId": "3c41ba3e-be36-4371-873b-e309bb905b4d",
        "colab": {
          "base_uri": "https://localhost:8080/"
        }
      },
      "source": [
        "print(X.shape)\r\n",
        "print(Y.shape)"
      ],
      "execution_count": 13,
      "outputs": [
        {
          "output_type": "stream",
          "text": [
            "(566602, 20)\n",
            "(566602,)\n"
          ],
          "name": "stdout"
        }
      ]
    },
    {
      "cell_type": "code",
      "metadata": {
        "id": "DHYDJyoGSwzJ"
      },
      "source": [
        "from sklearn.model_selection import train_test_split\r\n",
        "X_train,X_val,Y_train,Y_val = train_test_split(X,Y,test_size=0.18,shuffle = True)"
      ],
      "execution_count": 14,
      "outputs": []
    },
    {
      "cell_type": "code",
      "metadata": {
        "colab": {
          "base_uri": "https://localhost:8080/"
        },
        "id": "5YzGx7EsUacj",
        "outputId": "db974d2a-8829-42ad-b750-007a296307f4"
      },
      "source": [
        "X_train.shape"
      ],
      "execution_count": 15,
      "outputs": [
        {
          "output_type": "execute_result",
          "data": {
            "text/plain": [
              "(464613, 20)"
            ]
          },
          "metadata": {
            "tags": []
          },
          "execution_count": 15
        }
      ]
    },
    {
      "cell_type": "code",
      "metadata": {
        "colab": {
          "base_uri": "https://localhost:8080/"
        },
        "id": "qOc7OFypUfU-",
        "outputId": "65f626a5-1721-4b94-fe3c-ffc14248dab1"
      },
      "source": [
        "Y_train.shape"
      ],
      "execution_count": 16,
      "outputs": [
        {
          "output_type": "execute_result",
          "data": {
            "text/plain": [
              "(464613,)"
            ]
          },
          "metadata": {
            "tags": []
          },
          "execution_count": 16
        }
      ]
    },
    {
      "cell_type": "code",
      "metadata": {
        "colab": {
          "base_uri": "https://localhost:8080/"
        },
        "id": "sduQyarpUj8Q",
        "outputId": "b3e6c8d5-0731-4a43-93c8-d1f2cb99abf6"
      },
      "source": [
        "X_val.shape"
      ],
      "execution_count": 17,
      "outputs": [
        {
          "output_type": "execute_result",
          "data": {
            "text/plain": [
              "(101989, 20)"
            ]
          },
          "metadata": {
            "tags": []
          },
          "execution_count": 17
        }
      ]
    },
    {
      "cell_type": "code",
      "metadata": {
        "colab": {
          "base_uri": "https://localhost:8080/"
        },
        "id": "L-Ox9CIIUuP4",
        "outputId": "db5670b4-0821-4967-c58a-b75cd4243be9"
      },
      "source": [
        "Y_val.shape"
      ],
      "execution_count": 18,
      "outputs": [
        {
          "output_type": "execute_result",
          "data": {
            "text/plain": [
              "(101989,)"
            ]
          },
          "metadata": {
            "tags": []
          },
          "execution_count": 18
        }
      ]
    },
    {
      "cell_type": "code",
      "metadata": {
        "id": "pgFUBsORY6vy",
        "outputId": "2dde1904-40f2-4a59-d4b8-72e0325a2170",
        "colab": {
          "base_uri": "https://localhost:8080/"
        }
      },
      "source": [
        "X.info()"
      ],
      "execution_count": 27,
      "outputs": [
        {
          "output_type": "stream",
          "text": [
            "<class 'pandas.core.frame.DataFrame'>\n",
            "RangeIndex: 566602 entries, 0 to 566601\n",
            "Data columns (total 20 columns):\n",
            " #   Column               Non-Null Count   Dtype\n",
            "---  ------               --------------   -----\n",
            " 0   sex                  566602 non-null  int64\n",
            " 1   patient_type         566602 non-null  int64\n",
            " 2   intubed              566602 non-null  int64\n",
            " 3   pneumonia            566602 non-null  int64\n",
            " 4   pregnancy            566602 non-null  int64\n",
            " 5   diabetes             566602 non-null  int64\n",
            " 6   copd                 566602 non-null  int64\n",
            " 7   asthma               566602 non-null  int64\n",
            " 8   inmsupr              566602 non-null  int64\n",
            " 9   hypertension         566602 non-null  int64\n",
            " 10  other_disease        566602 non-null  int64\n",
            " 11  cardiovascular       566602 non-null  int64\n",
            " 12  obesity              566602 non-null  int64\n",
            " 13  renal_chronic        566602 non-null  int64\n",
            " 14  tobacco              566602 non-null  int64\n",
            " 15  contact_other_covid  566602 non-null  int64\n",
            " 16  Test result          566602 non-null  int64\n",
            " 17  icu                  566602 non-null  int64\n",
            " 18  Age band             566602 non-null  int64\n",
            " 19  delta                566602 non-null  int64\n",
            "dtypes: int64(20)\n",
            "memory usage: 86.5 MB\n"
          ],
          "name": "stdout"
        }
      ]
    },
    {
      "cell_type": "code",
      "metadata": {
        "id": "q0ABLjcqiqg0"
      },
      "source": [
        "from sklearn import datasets, ensemble\r\n",
        "from sklearn.metrics import mean_squared_error"
      ],
      "execution_count": 19,
      "outputs": []
    },
    {
      "cell_type": "code",
      "metadata": {
        "id": "r4kG1uqRiqYD"
      },
      "source": [
        "params = {'n_estimators': 500,\r\n",
        "          'max_depth': 4,\r\n",
        "          'min_samples_split': 5,\r\n",
        "          'learning_rate': 0.01,\r\n",
        "          'loss': 'ls',\r\n",
        "          'verbose': 1\r\n",
        "          }"
      ],
      "execution_count": 20,
      "outputs": []
    },
    {
      "cell_type": "code",
      "metadata": {
        "id": "DPYw9L7kiqV0",
        "outputId": "d3ee0421-54fb-41f7-a4d9-a7d58f60781e",
        "colab": {
          "base_uri": "https://localhost:8080/"
        }
      },
      "source": [
        "reg = ensemble.GradientBoostingRegressor(**params)\r\n",
        "reg.fit(X_train, Y_train)\r\n",
        "\r\n",
        "mse = mean_squared_error(Y_val, reg.predict(X_val))\r\n",
        "print(\"The mean squared error (MSE) on test set: {:.4f}\".format(mse))"
      ],
      "execution_count": 21,
      "outputs": [
        {
          "output_type": "stream",
          "text": [
            "      Iter       Train Loss   Remaining Time \n",
            "         1           0.0594            3.58m\n",
            "         2           0.0591            3.56m\n",
            "         3           0.0588            3.54m\n",
            "         4           0.0585            3.54m\n",
            "         5           0.0582            3.53m\n",
            "         6           0.0579            3.52m\n",
            "         7           0.0576            3.49m\n",
            "         8           0.0573            3.49m\n",
            "         9           0.0571            3.49m\n",
            "        10           0.0568            3.49m\n",
            "        20           0.0544            3.40m\n",
            "        30           0.0525            3.33m\n",
            "        40           0.0508            3.26m\n",
            "        50           0.0495            3.18m\n",
            "        60           0.0484            3.11m\n",
            "        70           0.0474            3.04m\n",
            "        80           0.0466            2.96m\n",
            "        90           0.0459            2.90m\n",
            "       100           0.0453            2.83m\n",
            "       200           0.0421            2.12m\n",
            "       300           0.0411            1.41m\n",
            "       400           0.0407           42.40s\n",
            "       500           0.0403            0.00s\n",
            "The mean squared error (MSE) on test set: 0.0406\n"
          ],
          "name": "stdout"
        }
      ]
    },
    {
      "cell_type": "code",
      "metadata": {
        "id": "8oVf6PN6iqSz"
      },
      "source": [
        "pred=reg.predict(X_val)"
      ],
      "execution_count": 22,
      "outputs": []
    },
    {
      "cell_type": "code",
      "metadata": {
        "id": "yD7XlPMO-IFQ"
      },
      "source": [
        "pred=pd.DataFrame(pred, columns=['score'])"
      ],
      "execution_count": 23,
      "outputs": []
    },
    {
      "cell_type": "code",
      "metadata": {
        "id": "M1KQT_ie-Sad"
      },
      "source": [
        "a=0\r\n",
        "aa=0\r\n",
        "b=0\r\n",
        "c=0\r\n",
        "d=0\r\n",
        "for i in pred['score']:\r\n",
        "  if(i<0):\r\n",
        "    a=a+1\r\n",
        "  elif(i<0.10):\r\n",
        "    aa=aa+1\r\n",
        "  elif(i<0.25):\r\n",
        "    b=b+1\r\n",
        "  elif(i<0.5):\r\n",
        "    c=c+1\r\n",
        "  else:\r\n",
        "    d=d+1"
      ],
      "execution_count": 24,
      "outputs": []
    },
    {
      "cell_type": "code",
      "metadata": {
        "id": "pNUsSwTO_RTD",
        "outputId": "6c00cd51-db83-403a-e0c2-5faddc9ba621",
        "colab": {
          "base_uri": "https://localhost:8080/"
        }
      },
      "source": [
        "print(a)\r\n",
        "print(aa)\r\n",
        "print(b)\r\n",
        "print(c)\r\n",
        "print(d)"
      ],
      "execution_count": 25,
      "outputs": [
        {
          "output_type": "stream",
          "text": [
            "28191\n",
            "52901\n",
            "10034\n",
            "9205\n",
            "1658\n"
          ],
          "name": "stdout"
        }
      ]
    },
    {
      "cell_type": "code",
      "metadata": {
        "id": "vJXSYkA_hiKB"
      },
      "source": [
        "import pickle\r\n",
        "filename = \"reg.sav\"\r\n",
        "pickle.dump(reg ,open(filename,'wb') )"
      ],
      "execution_count": 26,
      "outputs": []
    },
    {
      "cell_type": "code",
      "metadata": {
        "id": "S6ld-z_Mhhyn"
      },
      "source": [
        ""
      ],
      "execution_count": null,
      "outputs": []
    },
    {
      "cell_type": "markdown",
      "metadata": {
        "id": "ngmDGnGZWp-m"
      },
      "source": [
        "# Training"
      ]
    },
    {
      "cell_type": "code",
      "metadata": {
        "id": "H-3384FO-lTt"
      },
      "source": [
        ""
      ],
      "execution_count": null,
      "outputs": []
    },
    {
      "cell_type": "code",
      "metadata": {
        "id": "AVOWHmSgWtQO"
      },
      "source": [
        "from sklearn.tree import DecisionTreeRegressor"
      ],
      "execution_count": null,
      "outputs": []
    },
    {
      "cell_type": "code",
      "metadata": {
        "colab": {
          "base_uri": "https://localhost:8080/"
        },
        "id": "KQyHJzzIW1i3",
        "outputId": "926a8715-dd2b-483d-a1da-d86b02383ac9"
      },
      "source": [
        "model  = DecisionTreeRegressor()\r\n",
        "model.fit(X_train,Y_train)"
      ],
      "execution_count": null,
      "outputs": [
        {
          "output_type": "execute_result",
          "data": {
            "text/plain": [
              "DecisionTreeRegressor(ccp_alpha=0.0, criterion='mse', max_depth=None,\n",
              "                      max_features=None, max_leaf_nodes=None,\n",
              "                      min_impurity_decrease=0.0, min_impurity_split=None,\n",
              "                      min_samples_leaf=1, min_samples_split=2,\n",
              "                      min_weight_fraction_leaf=0.0, presort='deprecated',\n",
              "                      random_state=None, splitter='best')"
            ]
          },
          "metadata": {
            "tags": []
          },
          "execution_count": 20
        }
      ]
    },
    {
      "cell_type": "code",
      "metadata": {
        "id": "ozlYj6s5XoWG"
      },
      "source": [
        "preds = model.predict(X_val)"
      ],
      "execution_count": null,
      "outputs": []
    },
    {
      "cell_type": "code",
      "metadata": {
        "colab": {
          "base_uri": "https://localhost:8080/"
        },
        "id": "xb3oSHpeYQS_",
        "outputId": "c74d030b-6139-45b2-ea6f-673d2a69662d"
      },
      "source": [
        "preds"
      ],
      "execution_count": null,
      "outputs": [
        {
          "output_type": "execute_result",
          "data": {
            "text/plain": [
              "array([0., 0., 0., ..., 0., 0., 0.])"
            ]
          },
          "metadata": {
            "tags": []
          },
          "execution_count": 23
        }
      ]
    },
    {
      "cell_type": "code",
      "metadata": {
        "id": "4psOef_GYl4f"
      },
      "source": [
        "preds = pd.DataFrame(preds , columns=['date_died'])"
      ],
      "execution_count": null,
      "outputs": []
    },
    {
      "cell_type": "code",
      "metadata": {
        "colab": {
          "base_uri": "https://localhost:8080/"
        },
        "id": "WAx7Ev0FVkpM",
        "outputId": "fc33a872-baa5-4c7a-e29c-c00efd2fa9a4"
      },
      "source": [
        "preds.date_died.value_counts()"
      ],
      "execution_count": null,
      "outputs": [
        {
          "output_type": "execute_result",
          "data": {
            "text/plain": [
              "0.0    95457\n",
              "1.0     6532\n",
              "Name: date_died, dtype: int64"
            ]
          },
          "metadata": {
            "tags": []
          },
          "execution_count": 32
        }
      ]
    },
    {
      "cell_type": "code",
      "metadata": {
        "id": "asOKj63DVkjh"
      },
      "source": [
        ""
      ],
      "execution_count": null,
      "outputs": []
    },
    {
      "cell_type": "code",
      "metadata": {
        "id": "QsxAXog9Y2wv"
      },
      "source": [
        "Y_val = np.array(Y_val)"
      ],
      "execution_count": null,
      "outputs": []
    },
    {
      "cell_type": "code",
      "metadata": {
        "colab": {
          "base_uri": "https://localhost:8080/"
        },
        "id": "BgX8pOrlacYF",
        "outputId": "24403497-4aa6-442a-e70a-1494dcac0151"
      },
      "source": [
        "Y_val[0]"
      ],
      "execution_count": null,
      "outputs": [
        {
          "output_type": "execute_result",
          "data": {
            "text/plain": [
              "0"
            ]
          },
          "metadata": {
            "tags": []
          },
          "execution_count": 73
        }
      ]
    },
    {
      "cell_type": "code",
      "metadata": {
        "id": "qDiIToZAYSUI"
      },
      "source": [
        "diff=0\r\n",
        "for x in range(Y_val.shape[0]):\r\n",
        "    if(Y_val[x]!=preds[x]):\r\n",
        "        print(\"ali\")\r\n",
        "    else:\r\n",
        "        diff = diff+1"
      ],
      "execution_count": null,
      "outputs": []
    },
    {
      "cell_type": "code",
      "metadata": {
        "colab": {
          "base_uri": "https://localhost:8080/"
        },
        "id": "ZlA-wf5Dakbg",
        "outputId": "b2dd225d-f08c-42d6-a07f-b9fc9b1220cf"
      },
      "source": [
        "diff"
      ],
      "execution_count": null,
      "outputs": [
        {
          "output_type": "execute_result",
          "data": {
            "text/plain": [
              "101989"
            ]
          },
          "metadata": {
            "tags": []
          },
          "execution_count": 81
        }
      ]
    },
    {
      "cell_type": "code",
      "metadata": {
        "id": "75ykYV-qXtXW"
      },
      "source": [
        "prob = model.predict_proba(X_val)"
      ],
      "execution_count": null,
      "outputs": []
    },
    {
      "cell_type": "code",
      "metadata": {
        "colab": {
          "base_uri": "https://localhost:8080/"
        },
        "id": "me-Sz1smX2We",
        "outputId": "8b70a857-b597-4c28-cc3a-eb98805e42b2"
      },
      "source": [
        "prob"
      ],
      "execution_count": null,
      "outputs": [
        {
          "output_type": "execute_result",
          "data": {
            "text/plain": [
              "array([[1., 0.],\n",
              "       [1., 0.],\n",
              "       [1., 0.],\n",
              "       ...,\n",
              "       [1., 0.],\n",
              "       [1., 0.],\n",
              "       [1., 0.]])"
            ]
          },
          "metadata": {
            "tags": []
          },
          "execution_count": 68
        }
      ]
    },
    {
      "cell_type": "code",
      "metadata": {
        "id": "4khQK_SdYPXY"
      },
      "source": [
        ""
      ],
      "execution_count": null,
      "outputs": []
    },
    {
      "cell_type": "code",
      "metadata": {
        "colab": {
          "base_uri": "https://localhost:8080/"
        },
        "id": "hoxiA8hpX96m",
        "outputId": "2f2723da-952f-4ee8-c816-3f9a04e564bf"
      },
      "source": [
        "model.score(X_val ,Y_val)"
      ],
      "execution_count": null,
      "outputs": [
        {
          "output_type": "execute_result",
          "data": {
            "text/plain": [
              "1.0"
            ]
          },
          "metadata": {
            "tags": []
          },
          "execution_count": 33
        }
      ]
    },
    {
      "cell_type": "code",
      "metadata": {
        "colab": {
          "base_uri": "https://localhost:8080/"
        },
        "id": "X_Z0elgIWDVr",
        "outputId": "1c582cc4-cad1-42fe-d1f8-18ec53186842"
      },
      "source": [
        "from sklearn.model_selection import cross_val_score\r\n",
        "reg = DecisionTreeRegressor()\r\n",
        "cross_val_score(reg,X,Y,cv=5)\r\n"
      ],
      "execution_count": null,
      "outputs": [
        {
          "output_type": "execute_result",
          "data": {
            "text/plain": [
              "array([1., 1., 1., 1., 1.])"
            ]
          },
          "metadata": {
            "tags": []
          },
          "execution_count": 37
        }
      ]
    },
    {
      "cell_type": "code",
      "metadata": {
        "id": "klZJz7UEX1DD"
      },
      "source": [
        "import pickle\r\n",
        "filename = \"model.sav\"\r\n",
        "pickle.dump(model ,open(filename,'wb') )"
      ],
      "execution_count": null,
      "outputs": []
    },
    {
      "cell_type": "code",
      "metadata": {
        "id": "sDSp64AXYVRT"
      },
      "source": [
        "load_model = pickle.load(open(filename,'rb'))"
      ],
      "execution_count": null,
      "outputs": []
    },
    {
      "cell_type": "code",
      "metadata": {
        "colab": {
          "base_uri": "https://localhost:8080/"
        },
        "id": "yypqiI65YfNz",
        "outputId": "4e19e009-522b-4819-8a46-62dd2c0711e6"
      },
      "source": [
        "load_model.predict(X_val)"
      ],
      "execution_count": null,
      "outputs": [
        {
          "output_type": "execute_result",
          "data": {
            "text/plain": [
              "array([0., 0., 0., ..., 0., 0., 0.])"
            ]
          },
          "metadata": {
            "tags": []
          },
          "execution_count": 42
        }
      ]
    },
    {
      "cell_type": "code",
      "metadata": {
        "id": "QAAWqoC5Yko8"
      },
      "source": [
        ""
      ],
      "execution_count": null,
      "outputs": []
    },
    {
      "cell_type": "code",
      "metadata": {
        "id": "tJtnbRaScH1l"
      },
      "source": [
        "col = ['sex', 'patient_type', 'age', 'intubed', 'pneumonia', 'pregnancy',\r\n",
        "       'diabetes', 'copd', 'asthma', 'inmsupr', 'hypertension',\r\n",
        "       'other_disease', 'cardiovascular', 'obesity', 'renal_chronic',\r\n",
        "       'tobacco', 'contact_other_covid', 'Test result', 'icu', 'Age band',\r\n",
        "       'Fatal', 'delta']"
      ],
      "execution_count": null,
      "outputs": []
    },
    {
      "cell_type": "code",
      "metadata": {
        "colab": {
          "base_uri": "https://localhost:8080/"
        },
        "id": "mxkh9E4qd_wj",
        "outputId": "70f04212-e459-4ac3-81d1-119d40d7fc6e"
      },
      "source": [
        "X['sex'].unique()"
      ],
      "execution_count": null,
      "outputs": [
        {
          "output_type": "execute_result",
          "data": {
            "text/plain": [
              "array([1, 0])"
            ]
          },
          "metadata": {
            "tags": []
          },
          "execution_count": 58
        }
      ]
    },
    {
      "cell_type": "code",
      "metadata": {
        "colab": {
          "base_uri": "https://localhost:8080/"
        },
        "id": "ahRxmoA9cz0L",
        "outputId": "a28f2ca3-2b61-4ea8-b492-b08e0fee01b4"
      },
      "source": [
        "for x in range(len(col)):\r\n",
        "    print(X[col[x]].unique())"
      ],
      "execution_count": null,
      "outputs": [
        {
          "output_type": "stream",
          "text": [
            "[1 0]\n",
            "[1 2]\n",
            "[ 27  24  54  30  60  47  63  56  41  39  46  45  28  34  38  49  25  40\n",
            "  61  31  33  52  83  43  77  37  32  53  42  57  48  59  44  65  73  71\n",
            "  51  50  35  67  55  78  29  79  36  66  74  58  84  26  80   3  75  68\n",
            "  87  69  89  76  62  18  23  70  17  72   0  81  64  88  20  15  22  14\n",
            "  16  86  92  90  82   5   7  11  21  85  95  19   1   4  97  10  93   9\n",
            "   8  12  13   6  91   2  98  96  94 100 119 101  99 103 114 106 120 105\n",
            " 102 116 104 118 109 110 117 115 113 108 107 111]\n",
            "[0 1]\n",
            "[0 1]\n",
            "[0 1]\n",
            "[0 1]\n",
            "[0 1]\n",
            "[0 1]\n",
            "[0 1]\n",
            "[0 1]\n",
            "[0 1]\n",
            "[0 1]\n",
            "[0 1]\n",
            "[0 1]\n",
            "[0 1]\n",
            "[0 1]\n",
            "[1 0 2]\n",
            "[0 1]\n",
            "[0 1 2 3 4 5 6 7 8]\n",
            "[0 1]\n",
            "[ 60   2 152 170   0   9   3   4   5  91  10 121 304   1  21  84   6 137\n",
            "   7 111   8  41 153 235  24  92  82  31  25  51 202 172 248 112 174 144\n",
            "  49  20  61 182  30 205 233 122 184  77  14  19 113  42 230  52 214 204\n",
            "  26  80  83  53 101 305  86  43 106 245  75 104  62 171 201  79 169  27\n",
            " 190 243  55 168 109  12 115 244  70 213  22  97  40  81 110  36 176 123\n",
            "  90  76 100  73 193 138  67  78 197 232 140  23 231  69 129 105 143 141\n",
            "  37 173 175  11 200 160  66  68  29  17  98  85 114 132  18 146  71  47\n",
            " 102 142  56 108 226 183 275 234  13 228 116 206  99 199 139  15  48 227\n",
            "  39 151  45 145 133  38  16 203 136 158  96  54  46  72  74 195 335 128\n",
            " 274 164 167 131 135 103  44 130 189 198 107 161 159 134 192 162  50 220\n",
            " 191  35  33  32 165  65 166 225 221  95 218 194 222 224  87 163 188 260\n",
            " 219 196 127  34 126  28 255 229 257 261 157 258 223 265 259 264 263 256\n",
            " 187 212 273 251 249  64 236 247 254 252 303 181 262  93  89 154  59 253\n",
            " 120 321 293 290 322 320 323  63 292 291 242 186 286 280 281 125 250 185\n",
            " 334 217 289 156 215  57 287 288 150 278 316]\n"
          ],
          "name": "stdout"
        }
      ]
    },
    {
      "cell_type": "code",
      "metadata": {
        "id": "CQCzPqUNg2xZ"
      },
      "source": [
        "def get_score(filename , X):\r\n",
        "    model = pickle.load(open(filename,'rb'));\r\n",
        "    score = model.predict(X);\r\n",
        "    return score"
      ],
      "execution_count": null,
      "outputs": []
    },
    {
      "cell_type": "code",
      "metadata": {
        "id": "z3TPnYklg2sQ"
      },
      "source": [
        "def main():\r\n",
        "    X = np.zeros((1,22))\r\n",
        "    for ind in range(22) :\r\n",
        "        print('Give ' , columns_name[ind])\r\n",
        "        X[0][ind] = Input()\r\n",
        "    \r\n",
        "    X = pd.DataFrame(X,columns=columns_name)\r\n",
        "    death_prob = get_score('model.sav' , X)\r\n",
        "    return death_prob"
      ],
      "execution_count": null,
      "outputs": []
    },
    {
      "cell_type": "code",
      "metadata": {
        "id": "fu_QhOnoYMv2",
        "colab": {
          "base_uri": "https://localhost:8080/"
        },
        "outputId": "793bd610-acd0-4f7c-b088-f22a3fd4c59d"
      },
      "source": [
        "import pandas as pd\r\n",
        "import numpy as np\r\n",
        "import pickle\r\n",
        "from sklearn.tree import DecisionTreeRegressor\r\n",
        "columns_name = ['sex', 'patient_type', 'age', 'intubed', 'pneumonia', 'pregnancy',\r\n",
        "       'diabetes', 'copd', 'asthma', 'inmsupr', 'hypertension',\r\n",
        "       'other_disease', 'cardiovascular', 'obesity', 'renal_chronic',\r\n",
        "       'tobacco', 'contact_other_covid', 'Test result', 'icu', 'Age band',\r\n",
        "       'Fatal', 'delta']\r\n",
        "def get_score(filename , X):\r\n",
        "    model = pickle.load(open(filename,'rb'));\r\n",
        "    score = model.predict(X);\r\n",
        "    return score\r\n",
        "\r\n",
        "def main():\r\n",
        "    X = np.zeros((1,len(columns_name)))\r\n",
        "    for ind in range(len(columns_name)):\r\n",
        "        print('Give ' , columns_name[ind])\r\n",
        "        X[0][ind] = input()\r\n",
        "    \r\n",
        "    X = pd.DataFrame(X,columns=columns_name)\r\n",
        "    death_prob = get_score('model.sav' , X)\r\n",
        "    return death_prob\r\n",
        "\r\n",
        "if __name__== \"__main__\":\r\n",
        "    score = main()\r\n",
        "    print(score)\r\n",
        "\r\n",
        "\r\n"
      ],
      "execution_count": null,
      "outputs": [
        {
          "output_type": "stream",
          "text": [
            "Give  sex\n",
            "1\n",
            "Give  patient_type\n",
            "1\n",
            "Give  age\n",
            "20\n",
            "Give  intubed\n",
            "0\n",
            "Give  pneumonia\n",
            "0\n",
            "Give  pregnancy\n",
            "0\n",
            "Give  diabetes\n",
            "0\n",
            "Give  copd\n",
            "0\n",
            "Give  asthma\n",
            "0\n",
            "Give  inmsupr\n",
            "0\n",
            "Give  hypertension\n",
            "0\n",
            "Give  other_disease\n",
            "0\n",
            "Give  cardiovascular\n",
            "0\n",
            "Give  obesity\n",
            "0\n",
            "Give  renal_chronic\n",
            "0\n",
            "Give  tobacco\n",
            "0\n",
            "Give  contact_other_covid\n",
            "0\n",
            "Give  Test result\n",
            "1\n",
            "Give  icu\n",
            "1\n",
            "Give  Age band\n",
            "2\n",
            "Give  Fatal\n",
            "1\n",
            "Give  delta\n",
            "20\n",
            "[1.]\n"
          ],
          "name": "stdout"
        }
      ]
    },
    {
      "cell_type": "code",
      "metadata": {
        "id": "sAUM0NlQf9Gd"
      },
      "source": [
        ""
      ],
      "execution_count": null,
      "outputs": []
    }
  ]
}